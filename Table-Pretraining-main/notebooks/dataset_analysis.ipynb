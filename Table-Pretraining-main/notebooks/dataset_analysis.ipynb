{
 "cells": [
  {
   "cell_type": "markdown",
   "metadata": {},
   "source": [
    "First install the Squall repository from github and place this notebook in the directory"
   ]
  },
  {
   "cell_type": "markdown",
   "metadata": {},
   "source": [
    "# IMPORTS"
   ]
  },
  {
   "cell_type": "code",
   "execution_count": 121,
   "metadata": {},
   "outputs": [],
   "source": [
    "import pandas as pd\n",
    "import json\n",
    "import matplotlib.pyplot as plt\n",
    "import seaborn as sns"
   ]
  },
  {
   "cell_type": "markdown",
   "metadata": {},
   "source": [
    "# Loading Squall Dataset"
   ]
  },
  {
   "cell_type": "code",
   "execution_count": 122,
   "metadata": {},
   "outputs": [],
   "source": [
    "# Read the JSON file\n",
    "with open('data/squall.json', 'r') as f:\n",
    "    data = json.load(f)\n",
    "\n",
    "# Convert JSON to DataFrame\n",
    "df = pd.DataFrame(data)"
   ]
  },
  {
   "cell_type": "code",
   "execution_count": 123,
   "metadata": {},
   "outputs": [
    {
     "name": "stdout",
     "output_type": "stream",
     "text": [
      "Index(['nt', 'columns', 'nl', 'nl_pos', 'nl_ner', 'nl_ralign', 'nl_typebio',\n",
      "       'nl_typebio_col', 'nl_incolumns', 'nl_incells', 'columns_innl', 'tgt',\n",
      "       'tbl', 'sql', 'align'],\n",
      "      dtype='object')\n"
     ]
    }
   ],
   "source": [
    "# Different columns of the squall dataset (More info about the columns can be found at: https://github.com/tzshi/squall)\n",
    "print(df.columns)"
   ]
  },
  {
   "cell_type": "code",
   "execution_count": 124,
   "metadata": {},
   "outputs": [
    {
     "name": "stdout",
     "output_type": "stream",
     "text": [
      "0    203_447\n",
      "1    203_447\n",
      "2    203_447\n",
      "3    203_447\n",
      "4    203_447\n",
      "Name: tbl, dtype: object\n"
     ]
    }
   ],
   "source": [
    "# First 5 table ids\n",
    "print(df['tbl'].head(5))"
   ]
  },
  {
   "cell_type": "markdown",
   "metadata": {},
   "source": [
    "# PREPROCESSING SQUALL DATASET"
   ]
  },
  {
   "cell_type": "markdown",
   "metadata": {},
   "source": [
    "Since the SQL queries and natural language questions are formatted as nested lists we need to concatenate them to make them more readable/easier to process"
   ]
  },
  {
   "cell_type": "code",
   "execution_count": 125,
   "metadata": {},
   "outputs": [],
   "source": [
    "def flatten_sql(sql_tokens):\n",
    "    return \" \".join([token[1] for token in sql_tokens])\n",
    "\n",
    "# Adds new 'flattened_sql column to the dataset\n",
    "df['flattened_sql'] = df['sql'].apply(flatten_sql)"
   ]
  },
  {
   "cell_type": "code",
   "execution_count": 126,
   "metadata": {},
   "outputs": [
    {
     "name": "stdout",
     "output_type": "stream",
     "text": [
      "0    select ( select c5_number from w where c1_number = 1 ) - ( select c5_number from w where c1_number = 2 )\n",
      "1                                                                         select count ( distinct c1 ) from w\n",
      "2          select c2 from w where id = ( select id from w where c2 = 'atacama' order by id desc limit 1 ) + 1\n",
      "3                                                                select c4 from w where c3 = 'jaime quintana'\n",
      "4                                                                   select c2 from w order by id desc limit 1\n",
      "Name: flattened_sql, dtype: object\n"
     ]
    }
   ],
   "source": [
    "# Set pandas display option to show full column width\n",
    "pd.set_option('display.max_colwidth', None)\n",
    "\n",
    "# First five SQL queries\n",
    "print(df['flattened_sql'].head(5))"
   ]
  },
  {
   "cell_type": "markdown",
   "metadata": {},
   "source": [
    "We do the same for the natural language questions"
   ]
  },
  {
   "cell_type": "code",
   "execution_count": 127,
   "metadata": {},
   "outputs": [],
   "source": [
    "def flatten_nl(nl_tokens):\n",
    "    # Join the tokens into a single string\n",
    "    return \" \".join(nl_tokens)\n",
    "\n",
    "# Apply the function to the 'nl' column\n",
    "df['flattened_nl'] = df['nl'].apply(flatten_nl)\n"
   ]
  },
  {
   "cell_type": "code",
   "execution_count": 128,
   "metadata": {},
   "outputs": [
    {
     "name": "stdout",
     "output_type": "stream",
     "text": [
      "0    what is the difference in years between constiuency 1 and 2 ?\n",
      "1                     what is the total number of constituencies ?\n",
      "2                           which region is listed below atacama ?\n",
      "3                       which party did jaime quintana belong to ?\n",
      "4                    what is the last region listed on the table ?\n",
      "Name: flattened_nl, dtype: object\n"
     ]
    }
   ],
   "source": [
    "# First five SQL queries\n",
    "print(df['flattened_nl'].head(5))"
   ]
  },
  {
   "cell_type": "markdown",
   "metadata": {},
   "source": [
    "# CREATING OPERATOR DATASETS"
   ]
  },
  {
   "cell_type": "markdown",
   "metadata": {},
   "source": [
    "We now filter the dataset to obtain datasets for each SQL operator where we do not allow multiple (mathematical) SQL operators to be in the same query"
   ]
  },
  {
   "cell_type": "code",
   "execution_count": 129,
   "metadata": {},
   "outputs": [
    {
     "name": "stdout",
     "output_type": "stream",
     "text": [
      "DataFrame for operator 'count': 3728 rows\n",
      "DataFrame for operator 'sum': 279 rows\n",
      "DataFrame for operator 'min': 210 rows\n",
      "DataFrame for operator 'avg': 51 rows\n",
      "DataFrame for operator 'max': 234 rows\n"
     ]
    }
   ],
   "source": [
    "sql_operators = {\n",
    "    'sum', 'max', 'avg', 'min', 'count',   \n",
    "}\n",
    "\n",
    "# Initialize a dictionary to store DataFrames for each operator\n",
    "operator_dfs = {}\n",
    "\n",
    "# Iterate through each operator and create a DataFrame for each\n",
    "for operator in sql_operators:\n",
    "    # Filter the original DataFrame for rows containing the operator in 'flattened_sql'\n",
    "    operator_df = df[df['flattened_sql'].str.contains(r'\\b' + operator + r'\\b', case=False, na=False)]\n",
    "    \n",
    "    # Further filter to ensure that the query contains only this operator\n",
    "    # This is done by checking that no other operators are present in the query\n",
    "    # for other_operator in sql_operators - {operator}:\n",
    "    #     operator_df = operator_df[~operator_df['flattened_sql'].str.contains(r'\\b' + other_operator + r'\\b', case=False, na=False)]\n",
    "    \n",
    "    # Store the DataFrame in the dictionary with the operator as the key\n",
    "    operator_dfs[operator] = operator_df\n",
    "\n",
    "# Print the number of rows for each operator DataFrame\n",
    "for operator, operator_df in operator_dfs.items():\n",
    "    print(f\"DataFrame for operator '{operator}': {len(operator_df)} rows\")"
   ]
  },
  {
   "cell_type": "markdown",
   "metadata": {},
   "source": [
    "# Matching with the SQL dataset"
   ]
  },
  {
   "cell_type": "markdown",
   "metadata": {},
   "source": [
    "Now copy the pristine-unseen-tables.tsv and random-split-1-dev.tsv files from the SQA dataset and put them in the squall directory. These are the test and validation sets for SQA used in TAPEX "
   ]
  },
  {
   "cell_type": "markdown",
   "metadata": {},
   "source": [
    "We load the dev and test files into dataframes"
   ]
  },
  {
   "cell_type": "code",
   "execution_count": 130,
   "metadata": {},
   "outputs": [
    {
     "name": "stdout",
     "output_type": "stream",
     "text": [
      "Validation DataFrame rows: 2831\n",
      "Test DataFrame rows: 2831\n",
      "Test DataFrame rows: 11321\n"
     ]
    }
   ],
   "source": [
    "import pandas as pd\n",
    "\n",
    "# Load the TSV file into a DataFrame, skipping bad lines\n",
    "validation_file_path = 'random-split-1-dev.tsv'  # Adjust the path as necessary\n",
    "val_df = pd.read_csv(validation_file_path, sep='\\t', on_bad_lines='skip')\n",
    "print(f\"Validation DataFrame rows: {val_df.shape[0]}\")\n",
    "\n",
    "test_file_path = 'pristine-unseen-tables.tsv'  # Adjust the path as necessary\n",
    "test_df = pd.read_csv(test_file_path, sep='\\t')\n",
    "print(f\"Test DataFrame rows: {val_df.shape[0]}\")\n",
    "\n",
    "train_file_path = 'random-split-1-train.tsv'  # Adjust the path as necessary\n",
    "train_df = pd.read_csv(train_file_path, sep='\\t')\n",
    "print(f\"Test DataFrame rows: {train_df.shape[0]}\")"
   ]
  },
  {
   "cell_type": "code",
   "execution_count": 131,
   "metadata": {},
   "outputs": [
    {
     "name": "stdout",
     "output_type": "stream",
     "text": [
      "Index(['id', 'utterance', 'context', 'targetValue'], dtype='object')\n"
     ]
    }
   ],
   "source": [
    "# Different columns of the datasets\n",
    "print(test_df.columns)"
   ]
  },
  {
   "cell_type": "code",
   "execution_count": 132,
   "metadata": {},
   "outputs": [
    {
     "name": "stdout",
     "output_type": "stream",
     "text": [
      "0    csv/203-csv/733.csv\n",
      "1    csv/204-csv/149.csv\n",
      "2    csv/203-csv/435.csv\n",
      "3    csv/204-csv/803.csv\n",
      "4    csv/204-csv/272.csv\n",
      "Name: context, dtype: object\n"
     ]
    }
   ],
   "source": [
    "# Printing the first 5 table id's\n",
    "print(test_df['context'].head(5))"
   ]
  },
  {
   "cell_type": "markdown",
   "metadata": {},
   "source": [
    "Since the table id's are different from the squall dataset we create a new id column that uses the same id format as squall"
   ]
  },
  {
   "cell_type": "code",
   "execution_count": 133,
   "metadata": {},
   "outputs": [
    {
     "name": "stdout",
     "output_type": "stream",
     "text": [
      "0    203_733\n",
      "1    204_149\n",
      "2    203_435\n",
      "3    204_803\n",
      "4    204_272\n",
      "Name: tbl, dtype: object\n"
     ]
    }
   ],
   "source": [
    "test_df['tbl'] = test_df['context'].str.replace('csv/', '').str.replace('.csv', '').str.replace('-', '_', regex=False)\n",
    "val_df['tbl'] = val_df['context'].str.replace('csv/', '').str.replace('.csv', '').str.replace('-', '_', regex=False)\n",
    "train_df['tbl'] = train_df['context'].str.replace('csv/', '').str.replace('.csv', '').str.replace('-', '_', regex=False)\n",
    "\n",
    "# Printing the first 5 table id's\n",
    "print(test_df['tbl'].head(5))"
   ]
  },
  {
   "cell_type": "markdown",
   "metadata": {},
   "source": [
    "Let's check for a random operator, the number of matches with the dev, train or test set"
   ]
  },
  {
   "cell_type": "code",
   "execution_count": 134,
   "metadata": {},
   "outputs": [
    {
     "name": "stdout",
     "output_type": "stream",
     "text": [
      "Matching 'flattened_nl' values for operator 'count' in test set:\n",
      "Empty DataFrame\n",
      "Columns: [flattened_nl]\n",
      "Index: []\n",
      "Number of matches in test set: 0\n",
      "Matching 'flattened_nl' values for operator 'count' in validation set:\n",
      "                                                        flattened_nl\n",
      "387                                   number of teams above 9 medals\n",
      "1720                                 how many dates are on the chart\n",
      "1722   in how many games were than more than 80,000 people attending\n",
      "2345           total number of members from lawton and oklahoma city\n",
      "2657                                            total number of wins\n",
      "3071                                            total number of wins\n",
      "4068                   number of different teams listed on the chart\n",
      "4209                            what is the total years on the chart\n",
      "5008                 what is the number of titles ken harden has one\n",
      "5213                                     how many gold did u.s.a win\n",
      "7626                              what is the number of away games ?\n",
      "8503                      how many times total did they finish first\n",
      "8505                              how many years were they in tier 3\n",
      "9171               how many of these buildings were built after 1975\n",
      "9226                       how many portions are lo?cated in netanya\n",
      "9475      what is the number of games played in teh 2010-2011 season\n",
      "10015                               games above 30,000 in attendance\n",
      "10271       how many provinces have pashto as one of their languages\n",
      "10503                  how many swimmers had a time of at least 1:00\n",
      "Number of matches in validation set: 19\n",
      "Matching 'flattened_nl' values for operator 'count' in validation set:\n",
      "                                                                     flattened_nl\n",
      "192    what is the total number of countries in this preliminary qualifying round\n",
      "570                               number of teams not to win a match in first leg\n",
      "646                                          builder that has the most experience\n",
      "795                                               how many draws are on the chart\n",
      "845                                number of nations that earned no bronze medals\n",
      "...                                                                           ...\n",
      "10941                             which is the least region charted on this chart\n",
      "10990            number of mocho cota matches held in mexico city in 1983 or 1984\n",
      "11042                                  total number of players drafted in round 1\n",
      "11144                                      how many players are below tiger woods\n",
      "11145                        how many players were ranked on top of darren clarke\n",
      "\n",
      "[95 rows x 1 columns]\n",
      "Number of matches in validation set: 95\n"
     ]
    },
    {
     "name": "stderr",
     "output_type": "stream",
     "text": [
      "/var/folders/s_/1tg6zl197tzbfn_czq7vd7sw0000gn/T/ipykernel_21984/3094609716.py:6: SettingWithCopyWarning: \n",
      "A value is trying to be set on a copy of a slice from a DataFrame.\n",
      "Try using .loc[row_indexer,col_indexer] = value instead\n",
      "\n",
      "See the caveats in the documentation: https://pandas.pydata.org/pandas-docs/stable/user_guide/indexing.html#returning-a-view-versus-a-copy\n",
      "  operator_df['flattened_nl_lower'] = operator_df['flattened_nl'].str.lower()\n"
     ]
    }
   ],
   "source": [
    "# Select a specific operator DataFrame (for example, 'sum')\n",
    "operator = 'count'  # Change this to the operator you want to analyze\n",
    "operator_df = operator_dfs[operator]  # Assuming operator_dfs is already defined\n",
    "\n",
    "# Lowercase the 'flattened_nl' column for comparison\n",
    "operator_df['flattened_nl_lower'] = operator_df['flattened_nl'].str.lower()\n",
    "\n",
    "# Lowercase the 'utterance' columns in both test and validation DataFrames\n",
    "test_df['utterance_lower'] = test_df['utterance'].str.lower()\n",
    "val_df['utterance_lower'] = val_df['utterance'].str.lower()\n",
    "train_df['utterance_lower'] = train_df['utterance'].str.lower()\n",
    "\n",
    "\n",
    "# Compare the 'flattened_nl' column with the 'utterance' column in the test DataFrame\n",
    "matches_test = operator_df[operator_df['flattened_nl_lower'].isin(test_df['utterance_lower'])]\n",
    "\n",
    "# Print the results for the test DataFrame\n",
    "print(f\"Matching 'flattened_nl' values for operator '{operator}' in test set:\")\n",
    "print(matches_test[['flattened_nl']])  # Adjust the columns to display as needed\n",
    "print(f\"Number of matches in test set: {len(matches_test)}\")\n",
    "\n",
    "# Compare the 'flattened_nl' column with the 'utterance' column in the validation DataFrame\n",
    "matches_val = operator_df[operator_df['flattened_nl_lower'].isin(val_df['utterance_lower'])]\n",
    "\n",
    "# Print the results for the validation DataFrame\n",
    "print(f\"Matching 'flattened_nl' values for operator '{operator}' in validation set:\")\n",
    "print(matches_val[['flattened_nl']])  # Adjust the columns to display as needed\n",
    "print(f\"Number of matches in validation set: {len(matches_val)}\")\n",
    "\n",
    "# Compare the 'flattened_nl' column with the 'utterance' column in the validation DataFrame\n",
    "matches_train = operator_df[operator_df['flattened_nl_lower'].isin(train_df['utterance_lower'])]\n",
    "\n",
    "# Print the results for the validation DataFrame\n",
    "print(f\"Matching 'flattened_nl' values for operator '{operator}' in validation set:\")\n",
    "print(matches_train[['flattened_nl']])  # Adjust the columns to display as needed\n",
    "print(f\"Number of matches in validation set: {len(matches_train)}\")"
   ]
  },
  {
   "cell_type": "markdown",
   "metadata": {},
   "source": [
    "Let's try it with question id's instead"
   ]
  },
  {
   "cell_type": "code",
   "execution_count": 135,
   "metadata": {},
   "outputs": [
    {
     "name": "stdout",
     "output_type": "stream",
     "text": [
      "operator: count\n",
      "operator count in squall dataset: 3728\n",
      "Number of matches in validation set: 711\n",
      "operator: sum\n",
      "operator count in squall dataset: 279\n",
      "Number of matches in validation set: 57\n",
      "operator: min\n",
      "operator count in squall dataset: 210\n",
      "Number of matches in validation set: 30\n",
      "operator: avg\n",
      "operator count in squall dataset: 51\n",
      "Number of matches in validation set: 10\n",
      "operator: max\n",
      "operator count in squall dataset: 234\n",
      "Number of matches in validation set: 36\n"
     ]
    }
   ],
   "source": [
    "# Adding nt column to data partitions\n",
    "\n",
    "sql_operators = {\n",
    "    'sum', 'max', 'avg', 'min', 'count',   \n",
    "}\n",
    "\n",
    "test_df['nt'] = test_df['id']\n",
    "val_df['nt'] = val_df['id']\n",
    "train_df['nt'] = train_df['id']\n",
    "\n",
    "operator_dfs_filtered = {}\n",
    "\n",
    "for operator in sql_operators: \n",
    "    \n",
    "    print(f\"operator: {operator}\")\n",
    "    \n",
    "    operator_df = operator_dfs[operator]\n",
    "    print(f\"operator count in squall dataset: {operator_df.shape[0]}\")\n",
    "\n",
    "\n",
    "    # Checking matching id's with count df\n",
    "    # id_matches_train = operator_df[operator_df['nt'].isin(train_df['nt'])]\n",
    "    # id_matches_test = operator_df[operator_df['nt'].isin(test_df['nt'])]\n",
    "    id_matches_val = val_df[val_df['nt'].isin(operator_df['nt'])]\n",
    "    \n",
    "    operator_df_filtered = val_df[val_df['nt'].isin(operator_df['nt'])]\n",
    "    operator_dfs_filtered[operator] = operator_df_filtered\n",
    "        \n",
    "    # operator_dfs_filtered[operator] = operator_df.. \n",
    "\n",
    "    # Printing the number of matches in each set\n",
    "    # print(f\"Number of matches in train set: {len(id_matches_train)}\")\n",
    "    # print(f\"Number of matches in test set: {len(id_matches_test)}\")\n",
    "    print(f\"Number of matches in validation set: {len(id_matches_val)}\")\n",
    "    # print(\"-----------------------------------\")\n"
   ]
  },
  {
   "cell_type": "code",
   "execution_count": 120,
   "metadata": {},
   "outputs": [],
   "source": [
    "columns_to_drop = ['tbl', 'utterance_lower', 'nt']  # Replace with the actual columns you want to drop\n",
    "\n",
    "for operator in sql_operators: \n",
    "    filtered_df = operator_dfs_filtered[operator].drop(columns=columns_to_drop, errors='ignore')\n",
    "    filtered_df.to_csv(f'filtered_datasets/{operator}_filtered_split-1-dev.tsv', sep='\\t', index=False)\n"
   ]
  },
  {
   "cell_type": "code",
   "execution_count": 118,
   "metadata": {},
   "outputs": [
    {
     "name": "stdout",
     "output_type": "stream",
     "text": [
      "Filtered examples saved to filtered_datasets/count_filtered_split-1-dev.examples\n",
      "Filtered examples saved to filtered_datasets/sum_filtered_split-1-dev.examples\n",
      "Filtered examples saved to filtered_datasets/min_filtered_split-1-dev.examples\n",
      "Filtered examples saved to filtered_datasets/avg_filtered_split-1-dev.examples\n",
      "Filtered examples saved to filtered_datasets/max_filtered_split-1-dev.examples\n"
     ]
    }
   ],
   "source": [
    "import pandas as pd\n",
    "\n",
    "# Function to filter examples\n",
    "def filter_examples_by_ids(example_file, id_list, output_file):\n",
    "    filtered_lines = []\n",
    "    \n",
    "    with open(example_file, 'r') as file:\n",
    "        for line in file:\n",
    "            if any(f\"(id {id_})\" in line for id_ in id_list):\n",
    "                filtered_lines.append(line)\n",
    "    \n",
    "    # Write the filtered lines to the new file\n",
    "    with open(output_file, 'w') as file:\n",
    "        file.writelines(filtered_lines)\n",
    "    \n",
    "    print(f\"Filtered examples saved to {output_file}\")\n",
    "\n",
    "# Path to your original .examples file\n",
    "original_examples_file = 'random-split-1-dev.examples'\n",
    "\n",
    "# Iterate over each operator and filter examples\n",
    "for operator, operator_df in operator_dfs_filtered.items():\n",
    "    id_list = operator_df['nt'].tolist()  # Get the list of IDs from the DataFrame\n",
    "    output_file = f\"filtered_datasets/{operator}_filtered_split-1-dev.examples\"  # Output file name\n",
    "    \n",
    "    # Filter the .examples file and save\n",
    "    filter_examples_by_ids(original_examples_file, id_list, output_file)\n"
   ]
  },
  {
   "cell_type": "code",
   "execution_count": 102,
   "metadata": {},
   "outputs": [
    {
     "data": {
      "text/html": [
       "<div>\n",
       "<style scoped>\n",
       "    .dataframe tbody tr th:only-of-type {\n",
       "        vertical-align: middle;\n",
       "    }\n",
       "\n",
       "    .dataframe tbody tr th {\n",
       "        vertical-align: top;\n",
       "    }\n",
       "\n",
       "    .dataframe thead th {\n",
       "        text-align: right;\n",
       "    }\n",
       "</style>\n",
       "<table border=\"1\" class=\"dataframe\">\n",
       "  <thead>\n",
       "    <tr style=\"text-align: right;\">\n",
       "      <th></th>\n",
       "      <th>nt</th>\n",
       "      <th>columns</th>\n",
       "      <th>nl</th>\n",
       "      <th>nl_pos</th>\n",
       "      <th>nl_ner</th>\n",
       "      <th>nl_ralign</th>\n",
       "      <th>nl_typebio</th>\n",
       "      <th>nl_typebio_col</th>\n",
       "      <th>nl_incolumns</th>\n",
       "      <th>nl_incells</th>\n",
       "      <th>columns_innl</th>\n",
       "      <th>tgt</th>\n",
       "      <th>tbl</th>\n",
       "      <th>sql</th>\n",
       "      <th>align</th>\n",
       "      <th>flattened_sql</th>\n",
       "      <th>flattened_nl</th>\n",
       "    </tr>\n",
       "  </thead>\n",
       "  <tbody>\n",
       "    <tr>\n",
       "      <th>2542</th>\n",
       "      <td>nt-2263</td>\n",
       "      <td>[[year, [year], [number], number, 1997], [single, [single], [first, second], text(text), \"dopeman\" (remix)], [peak chart positions\\nus mod, [peak, chart, positions, us, mod], [number], number, 39], [peak chart positions\\nuk, [peak, chart, positions, uk], [number], number, 51], [album, [album], [], text, losing streak]]</td>\n",
       "      <td>[what, was, the, average, chart, position, of, their, singles, in, the, uk, ?]</td>\n",
       "      <td>[WP, VBD-AUX, DT, JJ, NN, NN, IN, PRP$, NNS, IN, DT, NNP, .]</td>\n",
       "      <td>[O, O, O, O, O, O, O, O, O, O, O, LOCATION, O]</td>\n",
       "      <td>[[None, None], [None, None], [None, None], [Keyword, [agg, agg_avg]], [Column, c4_number], [Column, c4_number], [None, None], [None, None], [None, None], [Column, c4_number], [Column, c4_number], [Column, c4_number], [None, None]]</td>\n",
       "      <td>[O, O, O, B-Keyword, B-Column, I-Column, O, O, O, B-Column, I-Column, I-Column, O]</td>\n",
       "      <td>[None, None, None, None, c4, c4, None, None, None, c4, c4, c4, None]</td>\n",
       "      <td>[False, False, False, False, True, False, False, False, False, False, False, True, False]</td>\n",
       "      <td>[False, False, True, False, False, False, True, False, False, True, True, False, True]</td>\n",
       "      <td>[False, False, True, True, False]</td>\n",
       "      <td>60.5</td>\n",
       "      <td>203_661</td>\n",
       "      <td>[[Keyword, select, []], [Keyword, avg, []], [Keyword, (, []], [Column, c4_number, []], [Keyword, ), []], [Keyword, from, []], [Keyword, w, []]]</td>\n",
       "      <td>[[[3], [1, 4, 2]], [[4, 5, 9, 10, 11], [3]]]</td>\n",
       "      <td>select avg ( c4_number ) from w</td>\n",
       "      <td>what was the average chart position of their singles in the uk ?</td>\n",
       "    </tr>\n",
       "    <tr>\n",
       "      <th>4873</th>\n",
       "      <td>nt-1569</td>\n",
       "      <td>[[name, [name], [], text, ned barkas], [nation, [nation], [], text, england], [position, [position], [], text, df], [league apps, [league, apps], [number], number, 4], [league goals, [league, goals], [number], number, 0], [fa cup apps, [fa, cup, apps], [number], number, 0], [fa cup goals, [fa, cup, goals], [number], number, 0], [total apps, [total, apps], [number], number, 4], [total goals, [total, goals], [number], number, 0]]</td>\n",
       "      <td>[what, is, the, average, number, of, scotland, 's, total, apps, ?]</td>\n",
       "      <td>[WP, VBD-AUX, DT, JJ, NN, IN, NNP, POS, JJ, NNS, .]</td>\n",
       "      <td>[O, O, O, O, O, O, LOCATION, O, O, O, O]</td>\n",
       "      <td>[[None, None], [None, None], [Keyword, [agg, agg_avg]], [Keyword, [agg, agg_avg]], [Keyword, [agg, agg_avg]], [Keyword, [agg, agg_avg]], [Literal, None], [None, None], [Column, c8_number], [Column, c8_number], [None, None]]</td>\n",
       "      <td>[O, O, B-Keyword, I-Keyword, I-Keyword, I-Keyword, B-String, O, B-Column, I-Column, O]</td>\n",
       "      <td>[None, None, None, None, None, None, c2, None, c8, c8, None]</td>\n",
       "      <td>[False, False, False, False, False, False, False, False, True, True, False]</td>\n",
       "      <td>[False, False, False, False, False, False, True, False, False, False, False]</td>\n",
       "      <td>[False, False, False, True, False, True, False, True, True]</td>\n",
       "      <td>15.5</td>\n",
       "      <td>204_159</td>\n",
       "      <td>[[Keyword, select, []], [Keyword, avg, []], [Keyword, (, []], [Column, c8_number, []], [Keyword, ), []], [Keyword, from, []], [Keyword, w, []], [Keyword, where, []], [Column, c2, []], [Keyword, =, []], [Literal.String, 'scotland', [6, 6]]]</td>\n",
       "      <td>[[[3, 2, 4, 5], [1, 2, 4]], [[8, 9], [3]], [[6], [10]]]</td>\n",
       "      <td>select avg ( c8_number ) from w where c2 = 'scotland'</td>\n",
       "      <td>what is the average number of scotland 's total apps ?</td>\n",
       "    </tr>\n",
       "    <tr>\n",
       "      <th>4879</th>\n",
       "      <td>nt-13040</td>\n",
       "      <td>[[name, [name], [], text, ned barkas], [nation, [nation], [], text, england], [position, [position], [], text, df], [league apps, [league, apps], [number], number, 4], [league goals, [league, goals], [number], number, 0], [fa cup apps, [fa, cup, apps], [number], number, 0], [fa cup goals, [fa, cup, goals], [number], number, 0], [total apps, [total, apps], [number], number, 4], [total goals, [total, goals], [number], number, 0]]</td>\n",
       "      <td>[average, number, of, goals, scored, by, players, from, scotland]</td>\n",
       "      <td>[JJ, NN, IN, NNS, VBN, IN, NNS, IN, NNP]</td>\n",
       "      <td>[O, O, O, O, O, O, O, O, LOCATION]</td>\n",
       "      <td>[[Keyword, [agg, agg_avg]], [Keyword, [agg, agg_avg]], [Keyword, [agg, agg_avg]], [Column, c9_number], [None, None], [None, None], [None, None], [Column, c2], [Literal, None]]</td>\n",
       "      <td>[B-Keyword, I-Keyword, I-Keyword, B-Column, O, O, O, B-Column, B-String]</td>\n",
       "      <td>[None, None, None, c9, None, None, None, c2, c2]</td>\n",
       "      <td>[False, False, False, True, False, False, False, False, False]</td>\n",
       "      <td>[False, False, False, False, False, False, False, False, True]</td>\n",
       "      <td>[False, False, False, False, True, False, True, False, True]</td>\n",
       "      <td>1</td>\n",
       "      <td>204_159</td>\n",
       "      <td>[[Keyword, select, []], [Keyword, avg, []], [Keyword, (, []], [Column, c9_number, []], [Keyword, ), []], [Keyword, from, []], [Keyword, w, []], [Keyword, where, []], [Column, c2, []], [Keyword, =, []], [Literal.String, 'scotland', [8, 8]]]</td>\n",
       "      <td>[[[1, 0, 2], [1, 2, 4]], [[3], [3]], [[8], [10]], [[7], [8]]]</td>\n",
       "      <td>select avg ( c9_number ) from w where c2 = 'scotland'</td>\n",
       "      <td>average number of goals scored by players from scotland</td>\n",
       "    </tr>\n",
       "    <tr>\n",
       "      <th>6256</th>\n",
       "      <td>nt-9828</td>\n",
       "      <td>[[network name, [network, name], [], text, canal de las estrellas], [flagship, [flagship], [], text, xew 2], [programming type, [programming, type], [list, length], &lt;ca,text&gt;, soap operas, retro movies and sports], [owner, [owner], [], text, televisa], [affiliates, [affiliates], [number], number, 1]]</td>\n",
       "      <td>[what, is, the, average, number, of, affiliates, that, a, given, network, will, have, ?]</td>\n",
       "      <td>[WP, VBD-AUX, DT, JJ, NN, IN, NNS, IN, DT, VBN, NN, VBD-AUX, VBD-AUX, .]</td>\n",
       "      <td>[O, O, O, O, O, O, O, O, O, O, O, O, O, O]</td>\n",
       "      <td>[[None, None], [None, None], [Keyword, [agg, agg_avg]], [Keyword, [agg, agg_avg]], [Keyword, [agg, agg_avg]], [None, None], [Column, c5_number], [None, None], [None, None], [None, None], [None, None], [None, None], [None, None], [None, None]]</td>\n",
       "      <td>[O, O, B-Keyword, I-Keyword, I-Keyword, O, B-Column, O, O, O, O, O, O, O]</td>\n",
       "      <td>[None, None, None, None, None, None, c5, None, None, None, None, None, None, None]</td>\n",
       "      <td>[False, False, False, False, False, False, True, False, False, False, True, False, False, False]</td>\n",
       "      <td>[False, False, False, False, False, False, False, False, False, False, False, False, False, False]</td>\n",
       "      <td>[True, False, False, False, True]</td>\n",
       "      <td>1</td>\n",
       "      <td>204_779</td>\n",
       "      <td>[[Keyword, select, []], [Keyword, avg, []], [Keyword, (, []], [Column, c5_number, []], [Keyword, ), []], [Keyword, from, []], [Keyword, w, []]]</td>\n",
       "      <td>[[[6], [3]], [[3, 2, 4], [1, 2, 4]]]</td>\n",
       "      <td>select avg ( c5_number ) from w</td>\n",
       "      <td>what is the average number of affiliates that a given network will have ?</td>\n",
       "    </tr>\n",
       "    <tr>\n",
       "      <th>7053</th>\n",
       "      <td>nt-4255</td>\n",
       "      <td>[[#, [#], [number], number, 1], [name, [name], [], text, aaron johnson], [height, [height], [number], unitnum, 5'8\"], [weight (lbs.), [weight, -lrb-, lbs, ., -rrb-], [number], number, 185], [position, [position], [], text, g], [class, [class], [], text, sr], [hometown, [hometown], [address], address, chicago, il, u.s], [previous team(s), [previous, team, -lrb-, s, -rrb-], [list, length], &lt;n,text&gt;, hubbard hs]]</td>\n",
       "      <td>[what, is, the, average, weight, of, jamarr, sanders, and, robert, williams, ?]</td>\n",
       "      <td>[WP, VBD-AUX, DT, JJ, NN, IN, NNP, NNP, CC, NNP, NNP, .]</td>\n",
       "      <td>[O, O, O, O, O, O, PERSON, PERSON, O, PERSON, PERSON, O]</td>\n",
       "      <td>[[None, None], [None, None], [None, None], [Keyword, [agg, agg_avg]], [Column, c4_number], [None, None], [Literal, None], [Literal, None], [Keyword, [conj, conj_or]], [Literal, None], [Literal, None], [None, None]]</td>\n",
       "      <td>[O, O, O, B-Keyword, B-Column, O, B-String, I-String, B-Keyword, B-String, I-String, O]</td>\n",
       "      <td>[None, None, None, None, c4, None, c2, c2, None, c2, c2, None]</td>\n",
       "      <td>[False, False, False, False, True, False, False, False, False, False, False, False]</td>\n",
       "      <td>[False, False, False, False, False, False, True, True, False, True, True, False]</td>\n",
       "      <td>[False, False, False, True, False, False, False, False]</td>\n",
       "      <td>210</td>\n",
       "      <td>204_534</td>\n",
       "      <td>[[Keyword, select, []], [Keyword, avg, []], [Keyword, (, []], [Column, c4_number, []], [Keyword, ), []], [Keyword, from, []], [Keyword, w, []], [Keyword, where, []], [Column, c2, []], [Keyword, in, []], [Keyword, (, []], [Literal.String, 'jamarr sanders', [6, 7]], [Keyword, ,, []], [Literal.String, 'robert williams', [9, 10]], [Keyword, ), []]]</td>\n",
       "      <td>[[[3], [2, 1, 4]], [[4], [3]], [[6, 7], [11]], [[9, 10], [13]], [[8], [12, 10, 9, 14]]]</td>\n",
       "      <td>select avg ( c4_number ) from w where c2 in ( 'jamarr sanders' , 'robert williams' )</td>\n",
       "      <td>what is the average weight of jamarr sanders and robert williams ?</td>\n",
       "    </tr>\n",
       "    <tr>\n",
       "      <th>7603</th>\n",
       "      <td>nt-13606</td>\n",
       "      <td>[[rank, [rank], [number], number, 1], [city, [city], [address], address, united states, los angeles], [passengers, [passengers], [number], number, 14749], [ranking, [ranking], [number], number, 4], [airline, [airline], [list, length], &lt;c, text&gt;, alaska airlines]]</td>\n",
       "      <td>[what, is, the, average, number, of, passengers, in, the, united, states, ?]</td>\n",
       "      <td>[WP, VBD-AUX, DT, JJ, NN, IN, NNS, IN, DT, NNP, NNPS, .]</td>\n",
       "      <td>[O, O, O, O, O, O, O, O, O, LOCATION, LOCATION, O]</td>\n",
       "      <td>[[None, None], [None, None], [Keyword, [agg, agg_avg]], [Keyword, [agg, agg_avg]], [Keyword, [agg, agg_avg]], [None, None], [Column, c3_number], [Column, c2_address], [None, None], [Literal, None], [Literal, None], [None, None]]</td>\n",
       "      <td>[O, O, B-Keyword, I-Keyword, I-Keyword, O, B-Column, B-Column, O, B-String, I-String, O]</td>\n",
       "      <td>[None, None, None, None, None, None, c3, c2, None, c2_address, c2_address, None]</td>\n",
       "      <td>[False, False, False, False, False, False, True, False, False, False, False, False]</td>\n",
       "      <td>[False, False, False, False, False, False, False, False, False, True, True, False]</td>\n",
       "      <td>[False, False, True, False, False]</td>\n",
       "      <td>5537.5</td>\n",
       "      <td>203_515</td>\n",
       "      <td>[[Keyword, select, []], [Keyword, avg, []], [Keyword, (, []], [Column, c3_number, []], [Keyword, ), []], [Keyword, from, []], [Keyword, w, []], [Keyword, where, []], [Column, c2_address, []], [Keyword, =, []], [Literal.String, 'united states', [9, 10]]]</td>\n",
       "      <td>[[[2, 3, 4], [1, 2, 4]], [[6], [3]], [[9, 10], [10]], [[7], [8]]]</td>\n",
       "      <td>select avg ( c3_number ) from w where c2_address = 'united states'</td>\n",
       "      <td>what is the average number of passengers in the united states ?</td>\n",
       "    </tr>\n",
       "    <tr>\n",
       "      <th>9263</th>\n",
       "      <td>nt-10936</td>\n",
       "      <td>[[rank, [rank], [number], number, 4], [name, [name], [], text, huang qiuyan], [nationality, [nationality], [], text, china], [result, [result], [number], number, 14.39], [notes, [notes], [], text, sb]]</td>\n",
       "      <td>[what, was, the, average, result, of, the, top, three, jumpers, ?]</td>\n",
       "      <td>[WP, VBD-AUX, DT, JJ, NN, IN, DT, JJ, CD, NNS, .]</td>\n",
       "      <td>[O, O, O, O, O, O, O, O, NUMBER, O, O]</td>\n",
       "      <td>[[None, None], [None, None], [None, None], [Keyword, [agg, agg_avg]], [Column, c4_number], [None, None], [Keyword, [comp, comp_lequal]], [Keyword, [comp, comp_lequal]], [Literal, None], [None, None], [None, None]]</td>\n",
       "      <td>[O, O, O, B-Keyword, B-Column, O, B-Keyword, I-Keyword, Number, O, O]</td>\n",
       "      <td>[None, None, None, None, c4, None, None, None, None, None, None]</td>\n",
       "      <td>[False, False, False, False, True, False, False, False, False, False, False]</td>\n",
       "      <td>[False, False, False, False, False, False, False, False, False, False, False]</td>\n",
       "      <td>[False, False, False, True, False]</td>\n",
       "      <td>14.08</td>\n",
       "      <td>204_910</td>\n",
       "      <td>[[Keyword, select, []], [Keyword, avg, []], [Keyword, (, []], [Column, c4_number, []], [Keyword, ), []], [Keyword, from, []], [Keyword, w, []], [Keyword, where, []], [Keyword, id, []], [Keyword, &lt;=, []], [Literal.Number, 3, [8]]]</td>\n",
       "      <td>[[[3], [1, 2, 4]], [[4], [3]], [[7, 6], [8, 9]], [[8], [10]]]</td>\n",
       "      <td>select avg ( c4_number ) from w where id &lt;= 3</td>\n",
       "      <td>what was the average result of the top three jumpers ?</td>\n",
       "    </tr>\n",
       "    <tr>\n",
       "      <th>10292</th>\n",
       "      <td>nt-6411</td>\n",
       "      <td>[[year, [year], [number], number, 2001], [team, [team], [], text, cin], [games, [games], [number], number, 15], [combined tackles, [combined, tackles], [number], number, 53], [tackles, [tackles], [number], number, 41], [assisted tackles, [assisted, tackles], [number], number, 12], [sacks, [sacks], [number], number, 8.5], [forced fumbles, [forced, fumbles], [number], number, 0], [fumble recoveries, [fumble, recoveries], [number], number, 0], [fumble return yards, [fumble, return, yards], [number], number, 0], [interceptions, [interceptions], [number], number, 2], [interception return yards, [interception, return, yards], [number], number, 28], [yards per interception return, [yards, per, interception, return], [number], number, 14], [longest interception return, [longest, interception, return], [number], number, 21], [interceptions returned for touchdown, [interceptions, returned, for, touchdown], [number], number, 0], [passes defended, [passes, defended], [number], number, 5]]</td>\n",
       "      <td>[what, is, the, average, number, of, tackles, this, player, has, had, over, his, career, ?]</td>\n",
       "      <td>[WP, VBD-AUX, DT, JJ, NN, IN, VBZ, DT, NN, VBD-AUX, VBD-AUX, IN, PRP$, NN, .]</td>\n",
       "      <td>[O, O, O, O, O, O, O, O, O, O, O, O, O, O, O]</td>\n",
       "      <td>[[None, None], [None, None], [None, None], [Keyword, [agg, agg_avg]], [Keyword, [agg, agg_avg]], [Keyword, [agg, agg_avg]], [Column, c5_number], [None, None], [None, None], [None, None], [None, None], [None, None], [None, None], [None, None], [None, None]]</td>\n",
       "      <td>[O, O, O, B-Keyword, I-Keyword, I-Keyword, B-Column, O, O, O, O, O, O, O, O]</td>\n",
       "      <td>[None, None, None, None, None, None, c5, None, None, None, None, None, None, None, None]</td>\n",
       "      <td>[False, False, False, False, False, False, True, False, False, False, False, False, False, False, False]</td>\n",
       "      <td>[False, False, False, False, False, False, False, False, False, False, False, False, False, True, False]</td>\n",
       "      <td>[False, False, False, True, True, True, False, False, False, False, False, False, False, False, False, False]</td>\n",
       "      <td>45</td>\n",
       "      <td>204_756</td>\n",
       "      <td>[[Keyword, select, []], [Keyword, avg, []], [Keyword, (, []], [Column, c5_number, []], [Keyword, ), []], [Keyword, from, []], [Keyword, w, []]]</td>\n",
       "      <td>[[[3, 4, 5], [1, 2, 4]], [[6], [3]]]</td>\n",
       "      <td>select avg ( c5_number ) from w</td>\n",
       "      <td>what is the average number of tackles this player has had over his career ?</td>\n",
       "    </tr>\n",
       "    <tr>\n",
       "      <th>10874</th>\n",
       "      <td>nt-4885</td>\n",
       "      <td>[[rank, [rank], [number], number, 1], [nation, [nation], [], text, united states], [gold, [gold], [number], number, 5], [silver, [silver], [number], number, 6], [bronze, [bronze], [number], number, 5], [total, [total], [number], number, 16]]</td>\n",
       "      <td>[what, is, the, average, number, of, gold, medals, won, by, the, top, 5, nations, ?]</td>\n",
       "      <td>[WP, VBD-AUX, DT, JJ, NN, IN, NN, NNS, VBN, IN, DT, JJ, CD, NNS, .]</td>\n",
       "      <td>[O, O, O, O, O, O, O, O, O, O, O, O, NUMBER, O, O]</td>\n",
       "      <td>[[None, None], [None, None], [None, None], [Keyword, [agg, agg_avg]], [Keyword, [agg, agg_avg]], [Keyword, [agg, agg_avg]], [Column, c3_number], [None, None], [None, None], [None, None], [Column, c1_number], [Column, c1_number], [Literal, None], [None, None], [None, None]]</td>\n",
       "      <td>[O, O, O, B-Keyword, I-Keyword, I-Keyword, B-Column, O, O, O, B-Column, I-Column, Number, O, O]</td>\n",
       "      <td>[None, None, None, None, None, None, c3, None, None, None, c1, c1, c1_number, None, None]</td>\n",
       "      <td>[False, False, False, False, False, False, True, False, False, False, False, False, False, False, False]</td>\n",
       "      <td>[False, False, False, False, False, False, False, False, False, False, False, False, True, False, False]</td>\n",
       "      <td>[False, False, True, False, False, False]</td>\n",
       "      <td>2.6</td>\n",
       "      <td>204_595</td>\n",
       "      <td>[[Keyword, select, []], [Keyword, avg, []], [Keyword, (, []], [Column, c3_number, []], [Keyword, ), []], [Keyword, from, []], [Keyword, w, []], [Keyword, where, []], [Column, c1_number, []], [Keyword, &lt;=, []], [Literal.Number, 5, [12]]]</td>\n",
       "      <td>[[[3, 4, 5], [1, 2, 4]], [[12], [10]], [[6], [3]], [[10, 11], [8, 9]]]</td>\n",
       "      <td>select avg ( c3_number ) from w where c1_number &lt;= 5</td>\n",
       "      <td>what is the average number of gold medals won by the top 5 nations ?</td>\n",
       "    </tr>\n",
       "    <tr>\n",
       "      <th>11027</th>\n",
       "      <td>nt-6116</td>\n",
       "      <td>[[rank, [rank], [number], number, 1], [airport, [airport], [list, length], &lt;d, text&gt;, netherlands - amsterdam], [passengers handled, [passengers, handled], [number], number, 105349], [% change 2011 / 12, [%, change, 2011, \\\\/, 12], [number], number, 1128]]</td>\n",
       "      <td>[looking, at, the, top, 10, busiest, routes, to, and, from, london, southend, airport, what, is, the, average, number, of, passengers, handled, ?]</td>\n",
       "      <td>[VBG, IN, DT, JJ, CD, JJS, NNS, TO, CC, IN, NNP, NNP, NNP, WP, VBD-AUX, DT, JJ, NN, IN, NNS, VBN, .]</td>\n",
       "      <td>[O, O, O, O, NUMBER, O, O, O, O, O, LOCATION, O, O, O, O, O, O, O, O, O, O, O]</td>\n",
       "      <td>[[None, None], [None, None], [None, None], [None, None], [None, None], [None, None], [None, None], [None, None], [None, None], [None, None], [None, None], [None, None], [None, None], [None, None], [None, None], [None, None], [Keyword, [agg, agg_avg]], [Keyword, [agg, agg_avg]], [Keyword, [agg, agg_avg]], [Column, c3_number], [Column, c3_number], [None, None]]</td>\n",
       "      <td>[O, O, O, O, O, O, O, O, O, O, O, O, O, O, O, O, B-Keyword, I-Keyword, I-Keyword, B-Column, I-Column, O]</td>\n",
       "      <td>[None, None, None, None, None, None, None, None, None, None, None, None, None, None, None, None, None, None, None, c3, c3, None]</td>\n",
       "      <td>[False, False, False, False, False, False, False, False, False, False, False, False, True, False, False, False, False, False, False, True, True, False]</td>\n",
       "      <td>[False, False, False, False, True, False, False, False, False, False, False, False, False, False, False, False, False, False, False, False, False, False]</td>\n",
       "      <td>[False, True, True, False]</td>\n",
       "      <td>58,967.5</td>\n",
       "      <td>203_340</td>\n",
       "      <td>[[Keyword, select, []], [Keyword, avg, []], [Keyword, (, []], [Column, c3_number, []], [Keyword, ), []], [Keyword, from, []], [Keyword, w, []]]</td>\n",
       "      <td>[[[16, 17, 18], [1, 2, 4]], [[19, 20], [3]]]</td>\n",
       "      <td>select avg ( c3_number ) from w</td>\n",
       "      <td>looking at the top 10 busiest routes to and from london southend airport what is the average number of passengers handled ?</td>\n",
       "    </tr>\n",
       "  </tbody>\n",
       "</table>\n",
       "</div>"
      ],
      "text/plain": [
       "             nt  \\\n",
       "2542    nt-2263   \n",
       "4873    nt-1569   \n",
       "4879   nt-13040   \n",
       "6256    nt-9828   \n",
       "7053    nt-4255   \n",
       "7603   nt-13606   \n",
       "9263   nt-10936   \n",
       "10292   nt-6411   \n",
       "10874   nt-4885   \n",
       "11027   nt-6116   \n",
       "\n",
       "                                                                                                                                                                                                                                                                                                                                                                                                                                                                                                                                                                                                                                                                                                                                                                                                                                                                                                                                                                                                                               columns  \\\n",
       "2542                                                                                                                                                                                                                                                                                                                                                                                                                                                                                                                                                                                                                                                                                                  [[year, [year], [number], number, 1997], [single, [single], [first, second], text(text), \"dopeman\" (remix)], [peak chart positions\\nus mod, [peak, chart, positions, us, mod], [number], number, 39], [peak chart positions\\nuk, [peak, chart, positions, uk], [number], number, 51], [album, [album], [], text, losing streak]]   \n",
       "4873                                                                                                                                                                                                                                                                                                                                                                                                                                                                                                                                                                                   [[name, [name], [], text, ned barkas], [nation, [nation], [], text, england], [position, [position], [], text, df], [league apps, [league, apps], [number], number, 4], [league goals, [league, goals], [number], number, 0], [fa cup apps, [fa, cup, apps], [number], number, 0], [fa cup goals, [fa, cup, goals], [number], number, 0], [total apps, [total, apps], [number], number, 4], [total goals, [total, goals], [number], number, 0]]   \n",
       "4879                                                                                                                                                                                                                                                                                                                                                                                                                                                                                                                                                                                   [[name, [name], [], text, ned barkas], [nation, [nation], [], text, england], [position, [position], [], text, df], [league apps, [league, apps], [number], number, 4], [league goals, [league, goals], [number], number, 0], [fa cup apps, [fa, cup, apps], [number], number, 0], [fa cup goals, [fa, cup, goals], [number], number, 0], [total apps, [total, apps], [number], number, 4], [total goals, [total, goals], [number], number, 0]]   \n",
       "6256                                                                                                                                                                                                                                                                                                                                                                                                                                                                                                                                                                                                                                                                                                                     [[network name, [network, name], [], text, canal de las estrellas], [flagship, [flagship], [], text, xew 2], [programming type, [programming, type], [list, length], <ca,text>, soap operas, retro movies and sports], [owner, [owner], [], text, televisa], [affiliates, [affiliates], [number], number, 1]]   \n",
       "7053                                                                                                                                                                                                                                                                                                                                                                                                                                                                                                                                                                                                     [[#, [#], [number], number, 1], [name, [name], [], text, aaron johnson], [height, [height], [number], unitnum, 5'8\"], [weight (lbs.), [weight, -lrb-, lbs, ., -rrb-], [number], number, 185], [position, [position], [], text, g], [class, [class], [], text, sr], [hometown, [hometown], [address], address, chicago, il, u.s], [previous team(s), [previous, team, -lrb-, s, -rrb-], [list, length], <n,text>, hubbard hs]]   \n",
       "7603                                                                                                                                                                                                                                                                                                                                                                                                                                                                                                                                                                                                                                                                                                                                                           [[rank, [rank], [number], number, 1], [city, [city], [address], address, united states, los angeles], [passengers, [passengers], [number], number, 14749], [ranking, [ranking], [number], number, 4], [airline, [airline], [list, length], <c, text>, alaska airlines]]   \n",
       "9263                                                                                                                                                                                                                                                                                                                                                                                                                                                                                                                                                                                                                                                                                                                                                                                                                         [[rank, [rank], [number], number, 4], [name, [name], [], text, huang qiuyan], [nationality, [nationality], [], text, china], [result, [result], [number], number, 14.39], [notes, [notes], [], text, sb]]   \n",
       "10292  [[year, [year], [number], number, 2001], [team, [team], [], text, cin], [games, [games], [number], number, 15], [combined tackles, [combined, tackles], [number], number, 53], [tackles, [tackles], [number], number, 41], [assisted tackles, [assisted, tackles], [number], number, 12], [sacks, [sacks], [number], number, 8.5], [forced fumbles, [forced, fumbles], [number], number, 0], [fumble recoveries, [fumble, recoveries], [number], number, 0], [fumble return yards, [fumble, return, yards], [number], number, 0], [interceptions, [interceptions], [number], number, 2], [interception return yards, [interception, return, yards], [number], number, 28], [yards per interception return, [yards, per, interception, return], [number], number, 14], [longest interception return, [longest, interception, return], [number], number, 21], [interceptions returned for touchdown, [interceptions, returned, for, touchdown], [number], number, 0], [passes defended, [passes, defended], [number], number, 5]]   \n",
       "10874                                                                                                                                                                                                                                                                                                                                                                                                                                                                                                                                                                                                                                                                                                                                                                                [[rank, [rank], [number], number, 1], [nation, [nation], [], text, united states], [gold, [gold], [number], number, 5], [silver, [silver], [number], number, 6], [bronze, [bronze], [number], number, 5], [total, [total], [number], number, 16]]   \n",
       "11027                                                                                                                                                                                                                                                                                                                                                                                                                                                                                                                                                                                                                                                                                                                                                                 [[rank, [rank], [number], number, 1], [airport, [airport], [list, length], <d, text>, netherlands - amsterdam], [passengers handled, [passengers, handled], [number], number, 105349], [% change 2011 / 12, [%, change, 2011, \\\\/, 12], [number], number, 1128]]   \n",
       "\n",
       "                                                                                                                                                       nl  \\\n",
       "2542                                                                       [what, was, the, average, chart, position, of, their, singles, in, the, uk, ?]   \n",
       "4873                                                                                   [what, is, the, average, number, of, scotland, 's, total, apps, ?]   \n",
       "4879                                                                                    [average, number, of, goals, scored, by, players, from, scotland]   \n",
       "6256                                                             [what, is, the, average, number, of, affiliates, that, a, given, network, will, have, ?]   \n",
       "7053                                                                      [what, is, the, average, weight, of, jamarr, sanders, and, robert, williams, ?]   \n",
       "7603                                                                         [what, is, the, average, number, of, passengers, in, the, united, states, ?]   \n",
       "9263                                                                                   [what, was, the, average, result, of, the, top, three, jumpers, ?]   \n",
       "10292                                                         [what, is, the, average, number, of, tackles, this, player, has, had, over, his, career, ?]   \n",
       "10874                                                                [what, is, the, average, number, of, gold, medals, won, by, the, top, 5, nations, ?]   \n",
       "11027  [looking, at, the, top, 10, busiest, routes, to, and, from, london, southend, airport, what, is, the, average, number, of, passengers, handled, ?]   \n",
       "\n",
       "                                                                                                     nl_pos  \\\n",
       "2542                                           [WP, VBD-AUX, DT, JJ, NN, NN, IN, PRP$, NNS, IN, DT, NNP, .]   \n",
       "4873                                                    [WP, VBD-AUX, DT, JJ, NN, IN, NNP, POS, JJ, NNS, .]   \n",
       "4879                                                               [JJ, NN, IN, NNS, VBN, IN, NNS, IN, NNP]   \n",
       "6256                               [WP, VBD-AUX, DT, JJ, NN, IN, NNS, IN, DT, VBN, NN, VBD-AUX, VBD-AUX, .]   \n",
       "7053                                               [WP, VBD-AUX, DT, JJ, NN, IN, NNP, NNP, CC, NNP, NNP, .]   \n",
       "7603                                               [WP, VBD-AUX, DT, JJ, NN, IN, NNS, IN, DT, NNP, NNPS, .]   \n",
       "9263                                                      [WP, VBD-AUX, DT, JJ, NN, IN, DT, JJ, CD, NNS, .]   \n",
       "10292                         [WP, VBD-AUX, DT, JJ, NN, IN, VBZ, DT, NN, VBD-AUX, VBD-AUX, IN, PRP$, NN, .]   \n",
       "10874                                   [WP, VBD-AUX, DT, JJ, NN, IN, NN, NNS, VBN, IN, DT, JJ, CD, NNS, .]   \n",
       "11027  [VBG, IN, DT, JJ, CD, JJS, NNS, TO, CC, IN, NNP, NNP, NNP, WP, VBD-AUX, DT, JJ, NN, IN, NNS, VBN, .]   \n",
       "\n",
       "                                                                               nl_ner  \\\n",
       "2542                                   [O, O, O, O, O, O, O, O, O, O, O, LOCATION, O]   \n",
       "4873                                         [O, O, O, O, O, O, LOCATION, O, O, O, O]   \n",
       "4879                                               [O, O, O, O, O, O, O, O, LOCATION]   \n",
       "6256                                       [O, O, O, O, O, O, O, O, O, O, O, O, O, O]   \n",
       "7053                         [O, O, O, O, O, O, PERSON, PERSON, O, PERSON, PERSON, O]   \n",
       "7603                               [O, O, O, O, O, O, O, O, O, LOCATION, LOCATION, O]   \n",
       "9263                                           [O, O, O, O, O, O, O, O, NUMBER, O, O]   \n",
       "10292                                   [O, O, O, O, O, O, O, O, O, O, O, O, O, O, O]   \n",
       "10874                              [O, O, O, O, O, O, O, O, O, O, O, O, NUMBER, O, O]   \n",
       "11027  [O, O, O, O, NUMBER, O, O, O, O, O, LOCATION, O, O, O, O, O, O, O, O, O, O, O]   \n",
       "\n",
       "                                                                                                                                                                                                                                                                                                                                                                       nl_ralign  \\\n",
       "2542                                                                                                                                      [[None, None], [None, None], [None, None], [Keyword, [agg, agg_avg]], [Column, c4_number], [Column, c4_number], [None, None], [None, None], [None, None], [Column, c4_number], [Column, c4_number], [Column, c4_number], [None, None]]   \n",
       "4873                                                                                                                                             [[None, None], [None, None], [Keyword, [agg, agg_avg]], [Keyword, [agg, agg_avg]], [Keyword, [agg, agg_avg]], [Keyword, [agg, agg_avg]], [Literal, None], [None, None], [Column, c8_number], [Column, c8_number], [None, None]]   \n",
       "4879                                                                                                                                                                                             [[Keyword, [agg, agg_avg]], [Keyword, [agg, agg_avg]], [Keyword, [agg, agg_avg]], [Column, c9_number], [None, None], [None, None], [None, None], [Column, c2], [Literal, None]]   \n",
       "6256                                                                                                                          [[None, None], [None, None], [Keyword, [agg, agg_avg]], [Keyword, [agg, agg_avg]], [Keyword, [agg, agg_avg]], [None, None], [Column, c5_number], [None, None], [None, None], [None, None], [None, None], [None, None], [None, None], [None, None]]   \n",
       "7053                                                                                                                                                      [[None, None], [None, None], [None, None], [Keyword, [agg, agg_avg]], [Column, c4_number], [None, None], [Literal, None], [Literal, None], [Keyword, [conj, conj_or]], [Literal, None], [Literal, None], [None, None]]   \n",
       "7603                                                                                                                                        [[None, None], [None, None], [Keyword, [agg, agg_avg]], [Keyword, [agg, agg_avg]], [Keyword, [agg, agg_avg]], [None, None], [Column, c3_number], [Column, c2_address], [None, None], [Literal, None], [Literal, None], [None, None]]   \n",
       "9263                                                                                                                                                       [[None, None], [None, None], [None, None], [Keyword, [agg, agg_avg]], [Column, c4_number], [None, None], [Keyword, [comp, comp_lequal]], [Keyword, [comp, comp_lequal]], [Literal, None], [None, None], [None, None]]   \n",
       "10292                                                                                                           [[None, None], [None, None], [None, None], [Keyword, [agg, agg_avg]], [Keyword, [agg, agg_avg]], [Keyword, [agg, agg_avg]], [Column, c5_number], [None, None], [None, None], [None, None], [None, None], [None, None], [None, None], [None, None], [None, None]]   \n",
       "10874                                                                                          [[None, None], [None, None], [None, None], [Keyword, [agg, agg_avg]], [Keyword, [agg, agg_avg]], [Keyword, [agg, agg_avg]], [Column, c3_number], [None, None], [None, None], [None, None], [Column, c1_number], [Column, c1_number], [Literal, None], [None, None], [None, None]]   \n",
       "11027  [[None, None], [None, None], [None, None], [None, None], [None, None], [None, None], [None, None], [None, None], [None, None], [None, None], [None, None], [None, None], [None, None], [None, None], [None, None], [None, None], [Keyword, [agg, agg_avg]], [Keyword, [agg, agg_avg]], [Keyword, [agg, agg_avg]], [Column, c3_number], [Column, c3_number], [None, None]]   \n",
       "\n",
       "                                                                                                     nl_typebio  \\\n",
       "2542                         [O, O, O, B-Keyword, B-Column, I-Column, O, O, O, B-Column, I-Column, I-Column, O]   \n",
       "4873                     [O, O, B-Keyword, I-Keyword, I-Keyword, I-Keyword, B-String, O, B-Column, I-Column, O]   \n",
       "4879                                   [B-Keyword, I-Keyword, I-Keyword, B-Column, O, O, O, B-Column, B-String]   \n",
       "6256                                  [O, O, B-Keyword, I-Keyword, I-Keyword, O, B-Column, O, O, O, O, O, O, O]   \n",
       "7053                    [O, O, O, B-Keyword, B-Column, O, B-String, I-String, B-Keyword, B-String, I-String, O]   \n",
       "7603                   [O, O, B-Keyword, I-Keyword, I-Keyword, O, B-Column, B-Column, O, B-String, I-String, O]   \n",
       "9263                                      [O, O, O, B-Keyword, B-Column, O, B-Keyword, I-Keyword, Number, O, O]   \n",
       "10292                              [O, O, O, B-Keyword, I-Keyword, I-Keyword, B-Column, O, O, O, O, O, O, O, O]   \n",
       "10874           [O, O, O, B-Keyword, I-Keyword, I-Keyword, B-Column, O, O, O, B-Column, I-Column, Number, O, O]   \n",
       "11027  [O, O, O, O, O, O, O, O, O, O, O, O, O, O, O, O, B-Keyword, I-Keyword, I-Keyword, B-Column, I-Column, O]   \n",
       "\n",
       "                                                                                                                         nl_typebio_col  \\\n",
       "2542                                                               [None, None, None, None, c4, c4, None, None, None, c4, c4, c4, None]   \n",
       "4873                                                                       [None, None, None, None, None, None, c2, None, c8, c8, None]   \n",
       "4879                                                                                   [None, None, None, c9, None, None, None, c2, c2]   \n",
       "6256                                                 [None, None, None, None, None, None, c5, None, None, None, None, None, None, None]   \n",
       "7053                                                                     [None, None, None, None, c4, None, c2, c2, None, c2, c2, None]   \n",
       "7603                                                   [None, None, None, None, None, None, c3, c2, None, c2_address, c2_address, None]   \n",
       "9263                                                                   [None, None, None, None, c4, None, None, None, None, None, None]   \n",
       "10292                                          [None, None, None, None, None, None, c5, None, None, None, None, None, None, None, None]   \n",
       "10874                                         [None, None, None, None, None, None, c3, None, None, None, c1, c1, c1_number, None, None]   \n",
       "11027  [None, None, None, None, None, None, None, None, None, None, None, None, None, None, None, None, None, None, None, c3, c3, None]   \n",
       "\n",
       "                                                                                                                                                  nl_incolumns  \\\n",
       "2542                                                                 [False, False, False, False, True, False, False, False, False, False, False, True, False]   \n",
       "4873                                                                               [False, False, False, False, False, False, False, False, True, True, False]   \n",
       "4879                                                                                            [False, False, False, True, False, False, False, False, False]   \n",
       "6256                                                          [False, False, False, False, False, False, True, False, False, False, True, False, False, False]   \n",
       "7053                                                                       [False, False, False, False, True, False, False, False, False, False, False, False]   \n",
       "7603                                                                       [False, False, False, False, False, False, True, False, False, False, False, False]   \n",
       "9263                                                                              [False, False, False, False, True, False, False, False, False, False, False]   \n",
       "10292                                                 [False, False, False, False, False, False, True, False, False, False, False, False, False, False, False]   \n",
       "10874                                                 [False, False, False, False, False, False, True, False, False, False, False, False, False, False, False]   \n",
       "11027  [False, False, False, False, False, False, False, False, False, False, False, False, True, False, False, False, False, False, False, True, True, False]   \n",
       "\n",
       "                                                                                                                                                      nl_incells  \\\n",
       "2542                                                                      [False, False, True, False, False, False, True, False, False, True, True, False, True]   \n",
       "4873                                                                                [False, False, False, False, False, False, True, False, False, False, False]   \n",
       "4879                                                                                              [False, False, False, False, False, False, False, False, True]   \n",
       "6256                                                          [False, False, False, False, False, False, False, False, False, False, False, False, False, False]   \n",
       "7053                                                                            [False, False, False, False, False, False, True, True, False, True, True, False]   \n",
       "7603                                                                          [False, False, False, False, False, False, False, False, False, True, True, False]   \n",
       "9263                                                                               [False, False, False, False, False, False, False, False, False, False, False]   \n",
       "10292                                                   [False, False, False, False, False, False, False, False, False, False, False, False, False, True, False]   \n",
       "10874                                                   [False, False, False, False, False, False, False, False, False, False, False, False, True, False, False]   \n",
       "11027  [False, False, False, False, True, False, False, False, False, False, False, False, False, False, False, False, False, False, False, False, False, False]   \n",
       "\n",
       "                                                                                                        columns_innl  \\\n",
       "2542                                                                               [False, False, True, True, False]   \n",
       "4873                                                     [False, False, False, True, False, True, False, True, True]   \n",
       "4879                                                    [False, False, False, False, True, False, True, False, True]   \n",
       "6256                                                                               [True, False, False, False, True]   \n",
       "7053                                                         [False, False, False, True, False, False, False, False]   \n",
       "7603                                                                              [False, False, True, False, False]   \n",
       "9263                                                                              [False, False, False, True, False]   \n",
       "10292  [False, False, False, True, True, True, False, False, False, False, False, False, False, False, False, False]   \n",
       "10874                                                                      [False, False, True, False, False, False]   \n",
       "11027                                                                                     [False, True, True, False]   \n",
       "\n",
       "            tgt      tbl  \\\n",
       "2542       60.5  203_661   \n",
       "4873       15.5  204_159   \n",
       "4879          1  204_159   \n",
       "6256          1  204_779   \n",
       "7053        210  204_534   \n",
       "7603     5537.5  203_515   \n",
       "9263      14.08  204_910   \n",
       "10292        45  204_756   \n",
       "10874       2.6  204_595   \n",
       "11027  58,967.5  203_340   \n",
       "\n",
       "                                                                                                                                                                                                                                                                                                                                                              sql  \\\n",
       "2542                                                                                                                                                                                                              [[Keyword, select, []], [Keyword, avg, []], [Keyword, (, []], [Column, c4_number, []], [Keyword, ), []], [Keyword, from, []], [Keyword, w, []]]   \n",
       "4873                                                                                                              [[Keyword, select, []], [Keyword, avg, []], [Keyword, (, []], [Column, c8_number, []], [Keyword, ), []], [Keyword, from, []], [Keyword, w, []], [Keyword, where, []], [Column, c2, []], [Keyword, =, []], [Literal.String, 'scotland', [6, 6]]]   \n",
       "4879                                                                                                              [[Keyword, select, []], [Keyword, avg, []], [Keyword, (, []], [Column, c9_number, []], [Keyword, ), []], [Keyword, from, []], [Keyword, w, []], [Keyword, where, []], [Column, c2, []], [Keyword, =, []], [Literal.String, 'scotland', [8, 8]]]   \n",
       "6256                                                                                                                                                                                                              [[Keyword, select, []], [Keyword, avg, []], [Keyword, (, []], [Column, c5_number, []], [Keyword, ), []], [Keyword, from, []], [Keyword, w, []]]   \n",
       "7053   [[Keyword, select, []], [Keyword, avg, []], [Keyword, (, []], [Column, c4_number, []], [Keyword, ), []], [Keyword, from, []], [Keyword, w, []], [Keyword, where, []], [Column, c2, []], [Keyword, in, []], [Keyword, (, []], [Literal.String, 'jamarr sanders', [6, 7]], [Keyword, ,, []], [Literal.String, 'robert williams', [9, 10]], [Keyword, ), []]]   \n",
       "7603                                                                                                [[Keyword, select, []], [Keyword, avg, []], [Keyword, (, []], [Column, c3_number, []], [Keyword, ), []], [Keyword, from, []], [Keyword, w, []], [Keyword, where, []], [Column, c2_address, []], [Keyword, =, []], [Literal.String, 'united states', [9, 10]]]   \n",
       "9263                                                                                                                        [[Keyword, select, []], [Keyword, avg, []], [Keyword, (, []], [Column, c4_number, []], [Keyword, ), []], [Keyword, from, []], [Keyword, w, []], [Keyword, where, []], [Keyword, id, []], [Keyword, <=, []], [Literal.Number, 3, [8]]]   \n",
       "10292                                                                                                                                                                                                             [[Keyword, select, []], [Keyword, avg, []], [Keyword, (, []], [Column, c5_number, []], [Keyword, ), []], [Keyword, from, []], [Keyword, w, []]]   \n",
       "10874                                                                                                                [[Keyword, select, []], [Keyword, avg, []], [Keyword, (, []], [Column, c3_number, []], [Keyword, ), []], [Keyword, from, []], [Keyword, w, []], [Keyword, where, []], [Column, c1_number, []], [Keyword, <=, []], [Literal.Number, 5, [12]]]   \n",
       "11027                                                                                                                                                                                                             [[Keyword, select, []], [Keyword, avg, []], [Keyword, (, []], [Column, c3_number, []], [Keyword, ), []], [Keyword, from, []], [Keyword, w, []]]   \n",
       "\n",
       "                                                                                         align  \\\n",
       "2542                                              [[[3], [1, 4, 2]], [[4, 5, 9, 10, 11], [3]]]   \n",
       "4873                                   [[[3, 2, 4, 5], [1, 2, 4]], [[8, 9], [3]], [[6], [10]]]   \n",
       "4879                             [[[1, 0, 2], [1, 2, 4]], [[3], [3]], [[8], [10]], [[7], [8]]]   \n",
       "6256                                                      [[[6], [3]], [[3, 2, 4], [1, 2, 4]]]   \n",
       "7053   [[[3], [2, 1, 4]], [[4], [3]], [[6, 7], [11]], [[9, 10], [13]], [[8], [12, 10, 9, 14]]]   \n",
       "7603                         [[[2, 3, 4], [1, 2, 4]], [[6], [3]], [[9, 10], [10]], [[7], [8]]]   \n",
       "9263                             [[[3], [1, 2, 4]], [[4], [3]], [[7, 6], [8, 9]], [[8], [10]]]   \n",
       "10292                                                     [[[3, 4, 5], [1, 2, 4]], [[6], [3]]]   \n",
       "10874                   [[[3, 4, 5], [1, 2, 4]], [[12], [10]], [[6], [3]], [[10, 11], [8, 9]]]   \n",
       "11027                                             [[[16, 17, 18], [1, 2, 4]], [[19, 20], [3]]]   \n",
       "\n",
       "                                                                              flattened_sql  \\\n",
       "2542                                                        select avg ( c4_number ) from w   \n",
       "4873                                  select avg ( c8_number ) from w where c2 = 'scotland'   \n",
       "4879                                  select avg ( c9_number ) from w where c2 = 'scotland'   \n",
       "6256                                                        select avg ( c5_number ) from w   \n",
       "7053   select avg ( c4_number ) from w where c2 in ( 'jamarr sanders' , 'robert williams' )   \n",
       "7603                     select avg ( c3_number ) from w where c2_address = 'united states'   \n",
       "9263                                          select avg ( c4_number ) from w where id <= 3   \n",
       "10292                                                       select avg ( c5_number ) from w   \n",
       "10874                                  select avg ( c3_number ) from w where c1_number <= 5   \n",
       "11027                                                       select avg ( c3_number ) from w   \n",
       "\n",
       "                                                                                                                      flattened_nl  \n",
       "2542                                                              what was the average chart position of their singles in the uk ?  \n",
       "4873                                                                        what is the average number of scotland 's total apps ?  \n",
       "4879                                                                       average number of goals scored by players from scotland  \n",
       "6256                                                     what is the average number of affiliates that a given network will have ?  \n",
       "7053                                                            what is the average weight of jamarr sanders and robert williams ?  \n",
       "7603                                                               what is the average number of passengers in the united states ?  \n",
       "9263                                                                        what was the average result of the top three jumpers ?  \n",
       "10292                                                  what is the average number of tackles this player has had over his career ?  \n",
       "10874                                                         what is the average number of gold medals won by the top 5 nations ?  \n",
       "11027  looking at the top 10 busiest routes to and from london southend airport what is the average number of passengers handled ?  "
      ]
     },
     "execution_count": 102,
     "metadata": {},
     "output_type": "execute_result"
    }
   ],
   "source": [
    "operator_dfs_filtered['avg']"
   ]
  },
  {
   "cell_type": "markdown",
   "metadata": {},
   "source": [
    "# Finding matching IDs for different datasets"
   ]
  },
  {
   "cell_type": "code",
   "execution_count": 70,
   "metadata": {},
   "outputs": [
    {
     "name": "stdout",
     "output_type": "stream",
     "text": [
      "Number of different table ids in squall_tables_set 1617\n",
      "Number of different table ids in val_tables_set 346\n",
      "Number of different table ids in test_tables_set 421\n",
      "\n",
      "Number of different table ids in train_tables_set 1333\n",
      "\n",
      "Matching tables between Squall dataset and test set: set()\n",
      "Number of matching tables in Squall dataset with test set: 0\n",
      "\n",
      "Matching tables between Squall dataset and validation set: {'203_509', '203_213', '201_28', '204_966', '200_25', '204_600', '203_501', '203_337', '204_942', '204_634', '203_127', '202_22', '204_698', '204_105', '203_370', '202_32', '203_104', '204_704', '204_171', '202_115', '203_456', '203_343', '203_355', '203_105', '203_654', '203_783', '204_772', '204_784', '204_601', '204_626', '203_390', '204_168', '202_240', '204_976', '203_775', '204_965', '201_40', '204_453', '204_643', '204_205', '204_552', '204_74', '201_36', '204_752', '204_564', '204_159', '203_702', '204_235', '203_721', '204_834', '203_862', '204_75', '204_455', '203_313', '204_929', '204_737', '203_216', '203_153', '204_388', '202_76', '201_38', '204_342', '204_88', '201_15', '204_164', '204_558', '204_250', '203_665', '202_28', '203_175', '203_20', '204_317', '204_534', '203_429', '204_681', '204_664', '204_666', '203_876', '203_476', '204_716', '204_791', '202_125', '204_451', '203_461', '202_205', '203_332', '204_949', '201_43', '204_883', '204_756', '203_457', '203_812', '203_564', '202_233', '203_837', '204_286', '204_395', '203_359', '204_426', '203_248', '204_944', '203_407', '201_2', '204_68', '204_884', '204_30', '202_102', '204_620', '203_778', '203_450', '203_401', '204_476', '203_518', '204_169', '203_836', '203_857', '204_910', '202_226', '202_176', '204_796', '203_38', '204_783', '204_595', '203_108', '204_768', '204_886', '203_507', '203_42', '202_191', '200_7', '204_668', '204_1', '204_61', '203_750', '204_903', '204_607', '204_85', '204_739', '204_18', '203_56', '203_273', '203_362', '204_496', '204_352', '204_128', '203_621', '203_285', '204_694', '204_814', '204_237', '203_364', '203_165', '204_257', '203_630', '203_631', '204_743', '203_276', '202_271', '203_320', '203_587', '202_202', '204_19', '202_200', '202_250', '204_872', '204_6', '201_27', '204_25', '202_72', '200_38', '203_549', '203_475', '203_864', '204_336', '204_158', '203_115', '204_396', '201_13', '204_153', '203_497', '204_267', '203_200', '203_70', '204_616', '204_345', '204_779', '204_625', '203_519', '202_232', '204_808', '204_832', '203_747', '203_22', '204_109', '204_835', '204_624', '203_352', '204_59', '203_98', '204_828', '202_83', '203_76', '204_384', '204_706', '204_244', '203_787', '200_12', '203_55', '203_637', '203_222', '203_485', '203_340', '203_88', '204_423', '204_23', '203_560', '203_848', '204_482', '204_712', '203_515', '204_323', '203_292', '203_769', '204_740', '203_316', '204_220', '203_321', '204_154', '204_421', '203_648', '204_401', '203_197', '204_526', '204_397', '204_38', '203_609', '204_751', '204_104', '203_554', '204_983', '204_930', '203_91', '204_214', '204_786', '204_660', '203_357', '204_724', '203_667', '204_839', '204_969', '204_952', '204_609', '203_735', '203_412', '204_897', '202_114', '203_466', '204_151', '203_250', '204_533', '204_194', '203_376', '204_917', '203_486', '203_234', '204_974', '204_148', '204_219', '204_579', '203_262', '203_874', '203_703', '204_489', '204_470', '204_968', '203_661', '204_964', '203_214', '204_206', '203_333', '204_960', '204_861', '203_116', '203_713', '204_292', '203_151', '204_302', '201_48', '203_302', '203_788', '204_811', '203_529', '203_231', '204_156', '204_642', '203_339', '203_551', '204_111', '203_375', '204_117', '204_913', '203_299', '203_525', '204_659', '204_703', '203_447', '203_563', '203_82', '204_760', '203_99', '203_537', '203_19', '203_219', '203_767', '203_305', '203_460', '203_377', '204_338', '204_963', '203_54', '204_684', '202_45', '203_528', '201_14', '204_94', '204_371', '200_32', '203_711', '204_265', '203_784', '204_281', '203_764', '204_568'}\n",
      "Number of matching tables in Squall dataset with validation set 333\n",
      "\n",
      "Matching tables between Squall dataset and train set: {'203_393', '204_402', '203_5', '204_26', '204_603', '204_710', '204_687', '204_539', '204_841', '203_469', '203_612', '203_524', '204_575', '203_834', '204_906', '203_618', '204_804', '203_356', '203_347', '200_14', '204_599', '204_790', '203_154', '203_573', '203_710', '203_368', '203_253', '204_911', '203_13', '204_177', '204_284', '204_3', '204_354', '204_928', '203_695', '203_574', '204_584', '203_634', '203_789', '203_117', '203_644', '203_773', '203_698', '204_328', '203_195', '203_749', '203_118', '204_840', '203_691', '203_712', '204_996', '203_138', '203_24', '204_387', '203_378', '204_7', '200_47', '202_286', '204_713', '204_582', '203_720', '204_102', '204_279', '204_261', '203_135', '203_854', '204_228', '204_32', '204_176', '203_842', '204_959', '204_55', '203_830', '203_473', '204_820', '204_343', '204_637', '203_865', '202_208', '204_273', '204_971', '203_610', '204_878', '204_132', '203_770', '203_565', '204_225', '204_894', '203_673', '204_392', '204_183', '203_627', '204_175', '204_242', '203_90', '204_299', '204_780', '204_866', '203_1', '203_405', '204_278', '204_252', '203_536', '204_853', '204_865', '204_554', '203_547', '204_162', '203_594', '204_229', '204_84', '204_799', '204_543', '204_414', '203_484', '202_143', '203_206', '204_678', '204_824', '203_421', '204_466', '204_863', '204_557', '204_416', '204_725', '203_832', '204_774', '204_143', '204_805', '204_243', '203_323', '203_674', '204_425', '204_24', '203_281', '203_583', '203_354', '203_535', '203_3', '202_67', '204_792', '203_543', '204_473', '204_782', '203_426', '203_741', '204_449', '204_13', '202_90', '204_41', '204_793', '201_21', '201_25', '203_58', '203_130', '203_209', '204_876', '204_446', '203_532', '204_532', '203_805', '204_314', '204_501', '204_91', '203_394', '203_416', '204_871', '204_685', '202_276', '203_418', '204_920', '204_697', '204_573', '204_106', '204_283', '203_581', '203_242', '203_204', '204_785', '204_231', '202_127', '204_361', '204_350', '203_238', '203_597', '204_555', '204_651', '203_540', '201_31', '203_614', '204_53', '204_307', '203_706', '203_763', '204_428', '204_207', '204_172', '203_555', '203_372', '203_397', '204_469', '204_107', '204_141', '203_125', '204_120', '204_837', '204_918', '203_860', '204_232', '203_7', '203_765', '203_398', '204_699', '203_686', '204_806', '203_345', '203_482', '203_635', '202_178', '204_932', '204_979', '203_237', '203_391', '203_349', '203_440', '204_672', '203_683', '203_93', '204_131', '204_16', '203_404', '203_640', '204_321', '204_54', '204_592', '204_649', '203_330', '203_680', '204_152', '203_141', '204_329', '204_775', '203_843', '203_855', '203_247', '204_374', '203_35', '203_112', '204_14', '203_263', '204_877', '203_136', '204_195', '204_363', '204_693', '204_734', '201_46', '204_435', '204_474', '204_761', '203_322', '203_490', '204_975', '204_119', '203_383', '203_147', '204_650', '202_59', '203_258', '203_576', '204_442', '203_793', '203_699', '203_403', '203_224', '204_628', '203_81', '204_103', '204_78', '204_248', '204_981', '204_721', '204_707', '204_346', '204_386', '203_308', '204_987', '204_180', '200_35', '203_835', '203_620', '204_736', '202_26', '202_75', '203_382', '204_4', '204_191', '204_513', '203_226', '204_530', '204_438', '203_729', '204_340', '203_183', '204_717', '204_556', '204_282', '203_61', '204_631', '204_355', '204_146', '204_9', '204_20', '203_221', '202_239', '204_711', '203_327', '204_255', '204_802', '203_608', '204_849', '204_96', '203_392', '203_123', '204_515', '203_182', '200_1', '204_621', '204_475', '203_745', '204_56', '203_132', '204_813', '204_821', '203_478', '204_277', '203_611', '204_610', '204_170', '203_794', '203_266', '204_334', '203_651', '203_839', '204_763', '203_558', '203_442', '204_879', '204_430', '204_630', '202_52', '204_722', '203_655', '203_595', '203_777', '204_375', '203_724', '204_730', '204_648', '204_459', '204_184', '204_409', '203_158', '204_488', '204_187', '204_81', '203_277', '203_317', '203_30', '204_941', '203_134', '203_202', '203_203', '204_178', '204_982', '203_249', '204_874', '202_281', '203_853', '204_764', '204_992', '203_638', '204_855', '202_160', '203_790', '203_642', '204_614', '204_540', '204_924', '204_838', '203_489', '204_79', '204_938', '204_769', '203_208', '203_506', '203_538', '204_353', '204_320', '203_675', '204_852', '203_400', '203_526', '203_211', '203_46', '202_54', '203_180', '204_696', '203_689', '203_288', '203_622', '204_807', '204_0', '204_441', '204_498', '203_139', '204_57', '204_669', '204_269', '203_760', '204_365', '203_16', '200_31', '204_644', '204_525', '204_902', '203_173', '204_565', '203_14', '203_185', '203_424', '202_12', '203_650', '202_68', '204_70', '202_173', '203_26', '200_17', '204_463', '204_479', '202_137', '204_190', '204_275', '204_308', '204_100', '204_89', '204_198', '204_379', '203_444', '204_673', '204_794', '204_337', '204_471', '204_185', '202_44', '203_817', '204_52', '204_523', '203_142', '203_688', '204_35', '204_161', '204_12', '203_801', '204_484', '204_639', '204_503', '203_365', '203_270', '204_200', '204_940', '203_344', '201_1', '203_601', '204_211', '203_771', '204_49', '202_63', '204_667', '204_950', '203_271', '204_288', '204_238', '203_119', '203_431', '204_147', '204_230', '202_24', '204_854', '203_580', '201_5', '204_490', '203_282', '203_439', '203_252', '203_802', '204_34', '202_253', '204_130', '204_516', '204_125', '204_319', '203_513', '204_850', '204_873', '203_455', '204_364', '203_590', '200_22', '203_672', '202_38', '203_471', '204_389', '203_682', '203_192', '204_745', '204_157', '203_280', '204_468', '204_623', '204_43', '203_67', '203_160', '204_226', '204_310', '204_31', '204_481', '203_176', '204_988', '203_877', '202_222', '204_755', '204_880', '202_211', '203_739', '203_246', '203_759', '204_139', '204_145', '204_553', '203_59', '204_847', '203_420', '203_6', '202_150', '203_815', '203_516', '203_441', '203_79', '204_199', '204_486', '203_875', '203_545', '203_294', '203_133', '204_71', '203_606', '204_915', '202_31', '203_191', '204_163', '204_294', '204_63', '203_257', '203_833', '202_295', '202_251', '201_9', '203_449', '203_751', '204_524', '203_83', '203_530', '204_738', '203_331', '203_300', '204_332', '204_500', '203_171', '204_40', '202_104', '203_660', '204_349', '204_487', '204_263', '204_452', '204_186', '204_11', '204_477', '204_251', '204_110', '204_860', '204_602', '202_117', '202_231', '203_668', '204_108', '203_33', '204_210', '203_814', '203_629', '204_522', '204_945', '204_37', '204_647', '203_797', '203_156', '204_296', '204_778', '204_692', '204_590', '203_467', '202_82', '204_961', '203_78', '203_664', '202_244', '204_403', '204_333', '204_301', '202_157', '203_283', '203_239', '204_536', '203_649', '203_255', '203_502', '204_627', '203_539', '203_615', '204_939', '203_517', '203_716', '204_636', '204_893', '203_505', '204_312', '204_569', '204_256', '204_193', '204_881', '204_997', '203_643', '204_517', '204_508', '204_741', '204_47', '204_33', '203_679', '203_413', '204_295', '203_102', '204_276', '204_60', '204_757', '203_256', '204_293', '203_269', '204_671', '203_851', '204_260', '203_533', '200_15', '203_436', '204_521', '204_439', '204_39', '203_871', '202_283', '204_746', '204_862', '203_451', '204_891', '203_230', '204_563', '204_604', '203_71', '204_589', '204_859', '203_129', '204_28', '204_51', '202_135', '204_44', '202_43', '200_33', '204_765', '203_353', '204_936', '203_859', '204_888', '204_781', '203_254', '204_204', '203_34', '203_872', '203_603', '204_514', '201_10', '203_481', '204_946', '203_756', '203_419', '204_691', '203_396', '203_184', '203_707', '203_114', '204_676', '203_218', '204_680', '204_73', '201_18', '201_44', '204_978', '204_518', '204_912', '204_121', '204_324', '203_718', '204_17', '203_809', '203_69', '203_829', '204_360', '203_106', '204_136', '203_8', '204_629', '203_235', '203_496', '203_240', '204_658', '203_47', '204_450', '204_437', '204_311', '203_757', '202_158', '203_678', '203_374', '202_289', '204_227', '203_534', '203_774', '204_675', '204_188', '203_732', '203_491', '204_341', '201_11', '204_268', '204_234', '203_719', '204_179', '203_717', '204_823', '204_708', '203_561', '202_85', '203_166', '203_161', '204_615', '204_864', '204_15', '204_262', '203_559', '204_383', '203_411', '204_541', '203_193', '203_146', '203_499', '203_84', '203_406', '203_743', '204_885', '204_77', '201_19', '203_186', '204_133', '203_633', '204_101', '203_15', '203_385', '204_240', '204_923', '204_809', '203_498', '204_776', '203_734', '204_985', '204_443', '203_149', '203_289', '203_309', '203_800', '204_845', '203_37', '204_510', '204_90', '203_510', '203_701', '204_239', '204_635', '204_381', '204_683', '202_15', '203_866', '204_690', '204_867', '203_126', '204_663', '204_123', '203_2', '203_465', '204_572', '203_798', '203_780', '203_174', '204_385', '203_652', '203_873', '204_223', '203_755', '203_11', '204_218', '204_846', '203_589', '203_324', '203_639', '203_145', '203_656', '204_209', '204_420', '204_418', '203_746', '203_41', '204_202', '204_436', '204_196', '204_727', '202_179', '200_3', '204_465', '203_314', '204_494', '202_29', '204_970', '204_192', '202_197', '203_762', '203_670', '203_18', '203_758', '203_303', '203_89', '204_113', '203_384', '203_687', '204_124', '204_909', '202_279', '204_933', '204_771', '203_700', '204_548', '203_290', '204_586', '203_657', '203_548', '202_294', '203_791', '201_34', '200_4', '204_562', '202_196', '204_370', '203_215', '203_847', '204_335', '204_297', '202_80', '204_433', '204_596', '204_951', '204_322', '203_437', '204_608', '204_801', '204_535', '203_51', '204_812', '204_448', '203_148', '204_670', '204_777', '204_898', '203_593', '203_636', '203_293', '203_296', '204_935', '204_72', '203_371', '204_544', '204_249', '203_781', '204_654', '204_889', '204_947', '204_843', '204_766', '202_87', '204_339', '204_400', '203_212', '202_7', '204_236', '203_295', '203_804', '204_127', '203_803', '204_735', '204_762', '203_366', '204_547', '204_905', '203_196', '202_262', '204_215', '203_586', '204_542', '204_253', '203_692', '203_408', '204_197', '203_163', '203_44', '204_114', '204_709', '203_43', '204_129', '204_413', '204_529', '204_994', '203_541', '203_17', '203_346', '201_42', '204_991', '204_990', '203_279', '204_287', '204_42', '203_568', '203_229', '203_363', '203_459', '203_572', '204_538', '203_201', '204_208', '204_948', '203_810', '203_737', '202_224', '202_257', '203_521', '204_511', '204_445', '203_52', '203_705', '204_550', '204_95', '204_618', '203_287', '203_522', '203_233', '204_686', '204_800', '204_688', '204_652', '204_115', '204_576', '204_461', '204_266', '203_613', '204_646', '204_313', '203_399', '203_306', '202_285', '203_379', '204_914', '204_816', '203_598', '204_718', '203_172', '204_318', '204_298', '201_39', '204_546', '203_9', '204_549', '204_122', '203_446', '203_677', '204_357', '204_633', '203_653', '204_795', '203_95', '204_731', '204_638', '203_569', '204_605', '203_414', '202_74', '204_506', '204_394', '203_113', '204_327', '203_27', '203_109', '203_245', '201_7', '204_571', '204_870', '203_512', '204_137', '204_662', '203_868', '204_480', '204_22', '203_470', '204_742', '203_36', '203_592', '204_770', '204_567', '204_144', '204_789', '203_445', '204_836', '204_378', '204_405', '204_733', '203_607', '204_661', '203_189', '203_685', '204_504', '203_164', '204_597', '203_731', '204_868', '203_107', '204_986', '204_788', '204_174', '203_696', '204_598', '203_341', '202_161', '204_700', '204_748', '203_291', '204_36', '204_27', '204_351', '204_427', '203_223', '204_58', '203_244', '203_504', '203_251', '203_591', '203_25', '203_452', '204_62', '203_799', '203_121', '204_373', '204_431', '203_531', '204_212', '203_808', '204_962', '203_523', '204_270', '203_616', '203_272', '204_356', '204_750', '203_28', '204_492', '204_665', '204_344', '203_824', '204_93', '203_177', '204_362', '204_954', '200_44', '204_155', '204_612', '204_593', '203_4', '204_829', '203_241', '203_387', '204_300', '203_430', '204_561', '204_882', '204_957', '204_922', '203_57', '203_137', '204_99', '203_577', '203_190', '203_179', '204_980', '204_173', '203_94', '204_679', '204_429', '203_818', '203_570', '203_267', '204_747', '204_399', '204_753', '203_723', '203_152', '203_187', '204_927', '204_822', '204_641', '202_192', '204_723', '203_358', '203_782', '202_122', '204_325', '203_694', '204_577', '204_457', '203_645', '203_409', '204_217', '203_207', '204_926', '204_984', '204_585', '204_587', '203_646', '203_704', '203_268', '204_655', '204_160', '204_622', '204_729', '203_494', '204_613', '203_410', '204_858', '203_312', '203_325', '204_419', '204_10', '204_309', '204_87', '203_823', '204_842', '203_77', '203_663', '203_827', '202_265', '203_417', '204_937', '204_570', '204_574', '200_0', '203_697', '204_617', '204_851', '204_358', '204_632', '204_98', '204_258', '203_168', '203_826', '204_330', '204_135', '203_550', '203_753', '203_462', '204_833', '204_759', '204_798', '204_689', '203_844', '204_749', '203_850', '204_869', '204_64', '204_48', '203_557', '203_584', '203_761', '203_715', '204_606', '202_50', '201_24', '203_220', '203_367', '204_415', '204_408', '204_507', '203_198', '204_245', '203_730', '204_907', '204_376', '204_581', '204_398', '203_727', '204_726', '203_348', '204_787', '204_493', '203_438', '204_831', '203_40', '203_671', '203_425', '203_131', '200_41', '204_520', '204_140', '203_338', '204_495', '204_899', '204_126', '204_246', '203_752', '203_350', '201_29', '204_291', '203_298', '203_754', '203_336', '204_956', '203_228', '200_26', '203_74', '203_157', '204_422', '203_562', '204_467', '203_150', '204_583', '204_221', '203_726', '203_828', '202_118', '200_30', '203_838', '200_10', '203_807', '203_600', '202_184', '203_527', '203_274', '203_60', '203_742', '203_676', '204_887', '202_236', '204_958', '204_29'}\n",
      "Number of matching tables between Squall dataset and train set 1284\n"
     ]
    }
   ],
   "source": [
    "# test_df, val_df, df \n",
    "# formatted_context \n",
    "# print(test_df['tbl'].head())\n",
    "# print(df['tbl'].head())\n",
    "\n",
    "\n",
    "test_tables_set = set(test_df['tbl'])\n",
    "val_tables_set = set(val_df['tbl'])\n",
    "train_tables_set = set(train_df['tbl'])\n",
    "\n",
    "squall_tables_set = set(df['tbl'])\n",
    "\n",
    "print(f\"Number of different table ids in squall_tables_set {len(squall_tables_set)}\")\n",
    "\n",
    "print(f\"Number of different table ids in val_tables_set {len(val_tables_set)}\")\n",
    "print(f\"Number of different table ids in test_tables_set {len(test_tables_set)}\\n\")\n",
    "print(f\"Number of different table ids in train_tables_set {len(train_tables_set)}\\n\")\n",
    "\n",
    "\n",
    "\n",
    "matching_test_tables = squall_tables_set.intersection(test_tables_set)\n",
    "matching_val_tables = squall_tables_set.intersection(val_tables_set)\n",
    "matching_train_tables = squall_tables_set.intersection(train_tables_set)\n",
    "\n",
    "print(f\"Matching tables between Squall dataset and test set: {matching_test_tables}\")\n",
    "print(f\"Number of matching tables in Squall dataset with test set: {len(matching_test_tables)}\\n\")\n",
    "\n",
    "print(f\"Matching tables between Squall dataset and validation set: {matching_val_tables}\")\n",
    "print(f\"Number of matching tables in Squall dataset with validation set {len(matching_val_tables)}\\n\")\n",
    "\n",
    "print(f\"Matching tables between Squall dataset and train set: {matching_train_tables}\")\n",
    "print(f\"Number of matching tables between Squall dataset and train set {len(matching_train_tables)}\")"
   ]
  }
 ],
 "metadata": {
  "kernelspec": {
   "display_name": "ir2_env",
   "language": "python",
   "name": "python3"
  },
  "language_info": {
   "codemirror_mode": {
    "name": "ipython",
    "version": 3
   },
   "file_extension": ".py",
   "mimetype": "text/x-python",
   "name": "python",
   "nbconvert_exporter": "python",
   "pygments_lexer": "ipython3",
   "version": "3.8.17"
  }
 },
 "nbformat": 4,
 "nbformat_minor": 2
}
