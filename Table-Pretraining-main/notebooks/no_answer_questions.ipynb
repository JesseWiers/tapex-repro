{
 "cells": [
  {
   "cell_type": "markdown",
   "metadata": {},
   "source": [
    "# CONVERTING DATA TO DATA WITHOUT SUITABLE ANSWER"
   ]
  },
  {
   "cell_type": "code",
   "execution_count": 15,
   "metadata": {},
   "outputs": [],
   "source": [
    "import pandas as pd\n",
    "import json\n",
    "import matplotlib.pyplot as plt\n",
    "import seaborn as sns\n",
    "import random\n",
    "import os"
   ]
  },
  {
   "cell_type": "markdown",
   "metadata": {},
   "source": [
    "## Acessing dataset"
   ]
  },
  {
   "cell_type": "code",
   "execution_count": 16,
   "metadata": {},
   "outputs": [
    {
     "name": "stdout",
     "output_type": "stream",
     "text": [
      "[{'phase': 1, 'table_id': '1-10015132-11', 'question': 'What position does the player who played for butler cc (ks) play?', 'sql': {'sel': 3, 'conds': [[5, 0, 'Butler CC (KS)']], 'agg': 0}}]\n",
      "[{'phase': 1, 'table_id': '1-10015132-16', 'question': \"What is terrence ross' nationality\", 'sql': {'sel': 2, 'conds': [[0, 0, 'Terrence Ross']], 'agg': 0}}]\n",
      "[{'phase': 1, 'table_id': '1-1000181-1', 'question': 'Tell me what the notes are for South Australia ', 'sql': {'sel': 5, 'conds': [[3, 0, 'SOUTH AUSTRALIA']], 'agg': 0}}]\n"
     ]
    }
   ],
   "source": [
    "# Function to read and parse dev.jsonl\n",
    "def read_dev_jsonl(file_path):\n",
    "    with open(file_path, 'r') as file:\n",
    "        dev_data = [json.loads(line) for line in file]\n",
    "    return dev_data\n",
    "\n",
    "# Paths to your files\n",
    "dev_jsonl_path = '.../raw_dataset/wikisql/data/dev.jsonl'\n",
    "test_jsonl_path = '.../raw_dataset/wikisql/data/test.jsonl'\n",
    "train_jsonl_path = '.../raw_dataset/wikisql/data/train.jsonl'\n",
    "\n",
    "# Read the files\n",
    "dev_data = read_dev_jsonl(dev_jsonl_path)\n",
    "test_data = read_dev_jsonl(test_jsonl_path)\n",
    "train_data = read_dev_jsonl(train_jsonl_path)\n",
    "\n",
    "\n",
    "# Example: Accessing the first line of each file\n",
    "print(dev_data[:1])\n",
    "print(test_data[:1])\n",
    "print(train_data[:1])"
   ]
  },
  {
   "cell_type": "markdown",
   "metadata": {},
   "source": [
    "## Write new .json files with percentage of swapped table_ids\n",
    "in dev.jsonl, train.jsonl and test.jsonl"
   ]
  },
  {
   "cell_type": "code",
   "execution_count": 17,
   "metadata": {},
   "outputs": [
    {
     "name": "stdout",
     "output_type": "stream",
     "text": [
      "New file created: /Users/sebastiaan/Desktop/IR2_tapex_reproducibility_study/src/Table-Pretraining-main/raw_dataset/wikisql/data/dev_20percent_swapped.jsonl\n",
      "New file created: /Users/sebastiaan/Desktop/IR2_tapex_reproducibility_study/src/Table-Pretraining-main/raw_dataset/wikisql/data/test_20percent_swapped.jsonl\n",
      "New file created: /Users/sebastiaan/Desktop/IR2_tapex_reproducibility_study/src/Table-Pretraining-main/raw_dataset/wikisql/data/train_20percent_swapped.jsonl\n"
     ]
    },
    {
     "data": {
      "text/plain": [
       "'/Users/sebastiaan/Desktop/IR2_tapex_reproducibility_study/src/Table-Pretraining-main/raw_dataset/wikisql/data/train_20percent_swapped.jsonl'"
      ]
     },
     "execution_count": 17,
     "metadata": {},
     "output_type": "execute_result"
    }
   ],
   "source": [
    "# Function to write data to a new dev.jsonl file\n",
    "def write_dev_jsonl(file_path, data):\n",
    "    with open(file_path, 'w') as file:\n",
    "        for entry in data:\n",
    "            file.write(json.dumps(entry) + '\\n')\n",
    "\n",
    "# Function to randomly swap 20% of the table_ids, modify answers, and append to original data\n",
    "def swap_table_ids_and_modify_answers(file_path, percentage=20):\n",
    "    dev_data = read_dev_jsonl(file_path)\n",
    "    total_lines = len(dev_data)\n",
    "    num_to_swap = int(total_lines * (percentage / 100))\n",
    "    \n",
    "    # Get unique table_ids\n",
    "    table_ids = list(set(entry['table_id'] for entry in dev_data))\n",
    "    \n",
    "    modified_data = []\n",
    "    for _ in range(num_to_swap):\n",
    "        entry = random.choice(dev_data)\n",
    "        new_table_id = random.choice(table_ids)\n",
    "        while new_table_id == entry['table_id']:\n",
    "            new_table_id = random.choice(table_ids)\n",
    "        \n",
    "        new_entry = entry.copy()\n",
    "        new_entry['table_id'] = new_table_id\n",
    "        new_entry['sql'] = {\"sel\": -1, \"conds\": [], \"agg\": -1} # Reset the sql query\n",
    "        modified_data.append(new_entry)\n",
    "    \n",
    "    # Combine original data with modified data\n",
    "    combined_data = dev_data.copy()  # Make a copy of the original data\n",
    "    combined_data.extend(modified_data)\n",
    "\n",
    "    # Create new file name\n",
    "    base_name = os.path.basename(file_path)\n",
    "    dir_name = os.path.dirname(file_path)\n",
    "    new_file_name = base_name.replace('.jsonl', f'_{percentage}percent_swapped.jsonl')\n",
    "    new_file_path = os.path.join(dir_name, new_file_name)\n",
    "    \n",
    "    # Write the combined data to the new file\n",
    "    write_dev_jsonl(new_file_path, combined_data)\n",
    "    \n",
    "    print(f\"New file created: {new_file_path}\")\n",
    "    return new_file_path\n",
    "\n",
    "# Swap table_ids randomly\n",
    "swap_table_ids_and_modify_answers(dev_jsonl_path)\n",
    "swap_table_ids_and_modify_answers(test_jsonl_path)\n",
    "swap_table_ids_and_modify_answers(train_jsonl_path)"
   ]
  },
  {
   "cell_type": "markdown",
   "metadata": {},
   "source": [
    "## Print lines swapped dev, test, train files:"
   ]
  },
  {
   "cell_type": "code",
   "execution_count": 19,
   "metadata": {},
   "outputs": [
    {
     "name": "stdout",
     "output_type": "stream",
     "text": [
      "Last 10 lines of the new dev file:\n",
      "{\"phase\": 2, \"table_id\": \"2-17311797-10\", \"question\": \"What is the 9th runner-up with a top 18/20/24/30 greater than 17 and a 5th runner-up of 2?\", \"sql\": {\"sel\": -1, \"conds\": [], \"agg\": -1}}\n",
      "{\"phase\": 2, \"table_id\": \"2-16827273-1\", \"question\": \"What was the record on the game that was played on october 27?\", \"sql\": {\"sel\": -1, \"conds\": [], \"agg\": -1}}\n",
      "{\"phase\": 2, \"table_id\": \"2-1074011-3\", \"question\": \"What was the record after the game before Jan 7?\", \"sql\": {\"sel\": -1, \"conds\": [], \"agg\": -1}}\n",
      "{\"phase\": 2, \"table_id\": \"2-10560886-9\", \"question\": \"Name the Year which has a Label of atco records and a Type of album? Question 2\", \"sql\": {\"sel\": -1, \"conds\": [], \"agg\": -1}}\n",
      "{\"phase\": 2, \"table_id\": \"1-160510-1\", \"question\": \"Which Player has United States as Nationality, forward as Position and a greater than 5 Round?\", \"sql\": {\"sel\": -1, \"conds\": [], \"agg\": -1}}\n",
      "{\"phase\": 2, \"table_id\": \"2-18880018-2\", \"question\": \"How many people attended when Wake Forest played Virginia Tech?\", \"sql\": {\"sel\": -1, \"conds\": [], \"agg\": -1}}\n",
      "{\"phase\": 2, \"table_id\": \"2-10887379-6\", \"question\": \"Which Average population (x 1000) has a Crude death rate (per 1000) smaller than 10.9, and a Crude birth rate (per 1000) smaller than 19.7, and a Natural change (per 1000) of 8.7, and Live births of 54 263?\", \"sql\": {\"sel\": -1, \"conds\": [], \"agg\": -1}}\n",
      "{\"phase\": 2, \"table_id\": \"2-12464004-1\", \"question\": \"For the \\\"Downtown Girl\\\" episode, what was the original air date?\", \"sql\": {\"sel\": -1, \"conds\": [], \"agg\": -1}}\n",
      "{\"phase\": 2, \"table_id\": \"1-20693870-1\", \"question\": \"What is the tie no of the game where exeter city was the home team?\", \"sql\": {\"sel\": -1, \"conds\": [], \"agg\": -1}}\n",
      "{\"phase\": 2, \"table_id\": \"2-12206617-2\", \"question\": \"What is the total season number for episodes later than episode 30?\", \"sql\": {\"sel\": -1, \"conds\": [], \"agg\": -1}}\n",
      "\n",
      "\n",
      "Last 10 lines of the new test file:\n",
      "{\"phase\": 2, \"table_id\": \"2-1370208-2\", \"question\": \"What is the score of the game where Wrexham is the home team and the date is Blackpool?\", \"sql\": {\"sel\": -1, \"conds\": [], \"agg\": -1}}\n",
      "{\"phase\": 2, \"table_id\": \"2-1307603-1\", \"question\": \"What is the record in the 2 round fight that ended by submission (injury)?\", \"sql\": {\"sel\": -1, \"conds\": [], \"agg\": -1}}\n",
      "{\"phase\": 1, \"table_id\": \"2-18354377-1\", \"question\": \"How many millions of $ were spent in Iceland in 1948/49?\", \"sql\": {\"sel\": -1, \"conds\": [], \"agg\": -1}}\n",
      "{\"phase\": 2, \"table_id\": \"1-16729063-1\", \"question\": \"When was the away team score 13.19 (97)?\", \"sql\": {\"sel\": -1, \"conds\": [], \"agg\": -1}}\n",
      "{\"phase\": 2, \"table_id\": \"2-10721054-4\", \"question\": \"What is High Assists, when Team is \\\"Oklahoma City\\\"?\", \"sql\": {\"sel\": -1, \"conds\": [], \"agg\": -1}}\n",
      "{\"phase\": 2, \"table_id\": \"2-17310913-7\", \"question\": \"Who is the player of the match at canberra stadium?\", \"sql\": {\"sel\": -1, \"conds\": [], \"agg\": -1}}\n",
      "{\"phase\": 1, \"table_id\": \"1-1964010-2\", \"question\": \"Who won the match when the winner used the Pedigree attack?\", \"sql\": {\"sel\": -1, \"conds\": [], \"agg\": -1}}\n",
      "{\"phase\": 1, \"table_id\": \"2-11801795-16\", \"question\": \"Name the name for visayas\", \"sql\": {\"sel\": -1, \"conds\": [], \"agg\": -1}}\n",
      "{\"phase\": 2, \"table_id\": \"2-1111175-2\", \"question\": \"Who was the runner up before 2007?\", \"sql\": {\"sel\": -1, \"conds\": [], \"agg\": -1}}\n",
      "{\"phase\": 2, \"table_id\": \"1-23285805-8\", \"question\": \"What was the Entered Office of the man with the throne name Mohammad Ali Shah Qajar?\", \"sql\": {\"sel\": -1, \"conds\": [], \"agg\": -1}}\n",
      "\n",
      "\n",
      "Last 10 lines of the new train file:\n",
      "{\"phase\": 2, \"table_id\": \"1-25042332-22\", \"question\": \"Which Assist/pass has a Score of 1-0, and a Goal of 5?\", \"sql\": {\"sel\": -1, \"conds\": [], \"agg\": -1}}\n",
      "{\"phase\": 1, \"table_id\": \"1-2651755-2\", \"question\": \"what is the maximum round and fabien foret had the pole position?\", \"sql\": {\"sel\": -1, \"conds\": [], \"agg\": -1}}\n",
      "{\"phase\": 2, \"table_id\": \"2-17245527-5\", \"question\": \"When was the game that ended with a score of 6-4?\", \"sql\": {\"sel\": -1, \"conds\": [], \"agg\": -1}}\n",
      "{\"phase\": 2, \"table_id\": \"2-1305623-14\", \"question\": \"Who was the Mariners opponent at the game attended by 7,893?\", \"sql\": {\"sel\": -1, \"conds\": [], \"agg\": -1}}\n",
      "{\"phase\": 1, \"table_id\": \"2-17769324-2\", \"question\": \"Name the vote for 9th voted out day 22\", \"sql\": {\"sel\": -1, \"conds\": [], \"agg\": -1}}\n",
      "{\"phase\": 1, \"table_id\": \"2-10701045-3\", \"question\": \"Who were the pregame hosts when the sideline reporters were Steve Armitage and Brenda Irving?\", \"sql\": {\"sel\": -1, \"conds\": [], \"agg\": -1}}\n",
      "{\"phase\": 2, \"table_id\": \"2-10783853-8\", \"question\": \"How many points have 75 laps?\", \"sql\": {\"sel\": -1, \"conds\": [], \"agg\": -1}}\n",
      "{\"phase\": 2, \"table_id\": \"2-17383465-1\", \"question\": \"Which Saturday has a Name of confederation?\", \"sql\": {\"sel\": -1, \"conds\": [], \"agg\": -1}}\n",
      "{\"phase\": 1, \"table_id\": \"1-11662133-1\", \"question\": \"Who were the winning riders of the championship in Euer Valley, CA and whose horse was Magic Sirocco?\", \"sql\": {\"sel\": -1, \"conds\": [], \"agg\": -1}}\n",
      "{\"phase\": 2, \"table_id\": \"2-16653153-21\", \"question\": \"Which Year has a Purse of $83,925?\", \"sql\": {\"sel\": -1, \"conds\": [], \"agg\": -1}}\n",
      "\n",
      "\n",
      "Lines with no suitable SQL answer in the new dev file:\n",
      "\n",
      "\n",
      "Lines with no suitable SQL answer in the new test file:\n",
      "\n",
      "\n",
      "Lines with no suitable SQL answer in the new train file:\n"
     ]
    }
   ],
   "source": [
    "# Function to print the last 10 lines of a JSONL file\n",
    "def print_last_10_lines(file_path):\n",
    "    with open(file_path, 'r') as file:\n",
    "        lines = file.readlines()\n",
    "        for line in lines[-10:]:\n",
    "            print(line.strip())\n",
    "\n",
    "# Function to print lines where ['sql'] = {\"sel\": None, \"conds\": [], \"agg\": None}\n",
    "def print_lines_with_no_sql_answer(file_path):\n",
    "    with open(file_path, 'r') as file:\n",
    "        lines = file.readlines()\n",
    "        for line in lines:\n",
    "            entry = json.loads(line)\n",
    "            if entry['sql'] == {\"sel\": None, \"conds\": [], \"agg\": None}:\n",
    "                print(line.strip())\n",
    "\n",
    "# Print the last 10 lines of the created files\n",
    "print(\"Last 10 lines of the new dev file:\")\n",
    "print_last_10_lines('/Users/sebastiaan/Desktop/IR2_tapex_reproducibility_study/src/Table-Pretraining-main/raw_dataset/wikisql/data/dev_20percent_swapped.jsonl')\n",
    "print(\"\\n\")\n",
    "\n",
    "print(\"Last 10 lines of the new test file:\")\n",
    "print_last_10_lines('/Users/sebastiaan/Desktop/IR2_tapex_reproducibility_study/src/Table-Pretraining-main/raw_dataset/wikisql/data/test_20percent_swapped.jsonl')\n",
    "print(\"\\n\")\n",
    "\n",
    "print(\"Last 10 lines of the new train file:\")\n",
    "print_last_10_lines('/Users/sebastiaan/Desktop/IR2_tapex_reproducibility_study/src/Table-Pretraining-main/raw_dataset/wikisql/data/train_20percent_swapped.jsonl')\n",
    "print(\"\\n\")\n",
    "\n",
    "# Print lines where ['sql'] = {\"sel\": None, \"conds\": [], \"agg\": None}\n",
    "print(\"Lines with no suitable SQL answer in the new dev file:\")\n",
    "print_lines_with_no_sql_answer('/Users/sebastiaan/Desktop/IR2_tapex_reproducibility_study/src/Table-Pretraining-main/raw_dataset/wikisql/data/dev_20percent_swapped.jsonl')\n",
    "print(\"\\n\")\n",
    "\n",
    "print(\"Lines with no suitable SQL answer in the new test file:\")\n",
    "print_lines_with_no_sql_answer('/Users/sebastiaan/Desktop/IR2_tapex_reproducibility_study/src/Table-Pretraining-main/raw_dataset/wikisql/data/test_20percent_swapped.jsonl')\n",
    "print(\"\\n\")\n",
    "\n",
    "print(\"Lines with no suitable SQL answer in the new train file:\")\n",
    "print_lines_with_no_sql_answer('/Users/sebastiaan/Desktop/IR2_tapex_reproducibility_study/src/Table-Pretraining-main/raw_dataset/wikisql/data/train_20percent_swapped.jsonl')"
   ]
  }
 ],
 "metadata": {
  "kernelspec": {
   "display_name": "dl2023",
   "language": "python",
   "name": "python3"
  },
  "language_info": {
   "codemirror_mode": {
    "name": "ipython",
    "version": 3
   },
   "file_extension": ".py",
   "mimetype": "text/x-python",
   "name": "python",
   "nbconvert_exporter": "python",
   "pygments_lexer": "ipython3",
   "version": "3.11.5"
  }
 },
 "nbformat": 4,
 "nbformat_minor": 2
}
